{
 "cells": [
  {
   "cell_type": "code",
   "execution_count": 1,
   "metadata": {
    "pycharm": {
     "name": "#%%\n"
    }
   },
   "outputs": [
    {
     "name": "stdout",
     "output_type": "stream",
     "text": [
      "C:\\Users\\thinh\\Documents\\TN-Vathes-GoogleCloud\\CODE\\DataJoint\\datajoint-python\n"
     ]
    },
    {
     "name": "stderr",
     "output_type": "stream",
     "text": [
      "C:\\Users\\thinh\\.conda\\envs\\datajoint-python\\lib\\site-packages\\IPython\\core\\magics\\osm.py:417: UserWarning: This is now an optional IPython functionality, setting dhist requires you to install the `pickleshare` library.\n",
      "  self.shell.db['dhist'] = compress_dhist(dhist)[-100:]\n"
     ]
    }
   ],
   "source": [
    "cd ../.."
   ]
  },
  {
   "cell_type": "code",
   "execution_count": 2,
   "metadata": {
    "pycharm": {
     "name": "#%%\n"
    }
   },
   "outputs": [],
   "source": [
    "import os\n",
    "import datajoint as dj\n",
    "from pathlib import Path"
   ]
  },
  {
   "cell_type": "code",
   "execution_count": 3,
   "metadata": {},
   "outputs": [
    {
     "name": "stderr",
     "output_type": "stream",
     "text": [
      "[2024-07-16 19:22:44,426][INFO]: Connecting root@localhost:3306\n",
      "[2024-07-16 19:22:44,579][INFO]: Connected root@localhost:3306\n"
     ]
    },
    {
     "data": {
      "text/plain": [
       "DataJoint connection (connected) root@localhost:3306"
      ]
     },
     "execution_count": 3,
     "metadata": {},
     "output_type": "execute_result"
    }
   ],
   "source": [
    "dj.config[\"database.host\"] = \"localhost\"\n",
    "dj.config[\"database.user\"] = \"root\"\n",
    "dj.config[\"database.password\"] = \"simple\"\n",
    "dj.conn()"
   ]
  },
  {
   "cell_type": "code",
   "execution_count": 4,
   "metadata": {
    "pycharm": {
     "name": "#%%\n"
    }
   },
   "outputs": [],
   "source": [
    "# set experimental feature to true: DJ_SUPPORT_FILESET_MANAGEMENT\n",
    "os.environ['DJ_SUPPORT_FILEPATH_MANAGEMENT'] = \"TRUE\"\n",
    "os.environ['DJ_SUPPORT_FILESET_MANAGEMENT'] = \"TRUE\""
   ]
  },
  {
   "cell_type": "code",
   "execution_count": 5,
   "metadata": {
    "pycharm": {
     "name": "#%%\n"
    }
   },
   "outputs": [],
   "source": [
    "# configure an external store\n",
    "STORE_NAME = 'file-store'\n",
    "dj.config['stores'] = {STORE_NAME: {\n",
    "    'protocol': 'file',\n",
    "    'location': 'C:/Users/thinh/Documents/SciOps-data/datajoint-python/inbox',\n",
    "    'stage': 'C:/Users/thinh/Documents/SciOps-data/datajoint-python/outbox'}\n",
    "}"
   ]
  },
  {
   "cell_type": "code",
   "execution_count": 6,
   "metadata": {
    "pycharm": {
     "name": "#%%\n"
    }
   },
   "outputs": [],
   "source": [
    "schema = dj.Schema('test_fileset')"
   ]
  },
  {
   "cell_type": "code",
   "execution_count": 7,
   "metadata": {
    "pycharm": {
     "name": "#%%\n"
    }
   },
   "outputs": [],
   "source": [
    "@schema\n",
    "class Session(dj.Manual):\n",
    "    definition = \"\"\"\n",
    "    session_id: int\n",
    "    ---\n",
    "    session_fileset: fileset@file-store\n",
    "    \"\"\""
   ]
  },
  {
   "cell_type": "code",
   "execution_count": 8,
   "metadata": {
    "pycharm": {
     "name": "#%%\n"
    }
   },
   "outputs": [],
   "source": [
    "data_dir = Path(r\"C:/Users/thinh/Documents/SciOps-data/datajoint-python/outbox/report_figures\")"
   ]
  },
  {
   "cell_type": "code",
   "execution_count": 9,
   "metadata": {
    "pycharm": {
     "name": "#%%\n"
    }
   },
   "outputs": [
    {
     "data": {
      "text/plain": [
       "[WindowsPath('C:/Users/thinh/Documents/SciOps-data/datajoint-python/outbox/report_figures/m37_m37c2000r396_psychometric_curve.png'),\n",
       " WindowsPath('C:/Users/thinh/Documents/SciOps-data/datajoint-python/outbox/report_figures/m37_m37c2000r397_psychometric_curve.png'),\n",
       " WindowsPath('C:/Users/thinh/Documents/SciOps-data/datajoint-python/outbox/report_figures/m37_m37c2000r498_psychometric_curve.png'),\n",
       " WindowsPath('C:/Users/thinh/Documents/SciOps-data/datajoint-python/outbox/report_figures/m37_m37c2000r503_psychometric_curve.png'),\n",
       " WindowsPath('C:/Users/thinh/Documents/SciOps-data/datajoint-python/outbox/report_figures/m37_m37c2000r506_psychometric_curve.png'),\n",
       " WindowsPath('C:/Users/thinh/Documents/SciOps-data/datajoint-python/outbox/report_figures/m37_m37c2000r535_psychometric_curve.png'),\n",
       " WindowsPath('C:/Users/thinh/Documents/SciOps-data/datajoint-python/outbox/report_figures/m37_m37c2000r538_psychometric_curve.png'),\n",
       " WindowsPath('C:/Users/thinh/Documents/SciOps-data/datajoint-python/outbox/report_figures/m37_m37c2000r539_psychometric_curve.png'),\n",
       " WindowsPath('C:/Users/thinh/Documents/SciOps-data/datajoint-python/outbox/report_figures/m37_m37c2000r649_psychometric_curve.png'),\n",
       " WindowsPath('C:/Users/thinh/Documents/SciOps-data/datajoint-python/outbox/report_figures/m37_m37c2000r650_psychometric_curve.png'),\n",
       " WindowsPath('C:/Users/thinh/Documents/SciOps-data/datajoint-python/outbox/report_figures/m37_m37c212r7_psychometric_curve.png')]"
      ]
     },
     "execution_count": 9,
     "metadata": {},
     "output_type": "execute_result"
    }
   ],
   "source": [
    "# Let check the contents of the `data_dir`\n",
    "list(data_dir.glob(\"*\"))"
   ]
  },
  {
   "cell_type": "markdown",
   "metadata": {
    "pycharm": {
     "name": "#%% md\n"
    }
   },
   "source": [
    "#### Now, insert as a `fileset` datatype\n",
    "\n",
    "`fileset` type can be inserted from a directory"
   ]
  },
  {
   "cell_type": "code",
   "execution_count": 10,
   "metadata": {
    "pycharm": {
     "name": "#%%\n"
    }
   },
   "outputs": [],
   "source": [
    "Session.insert1((0, data_dir))"
   ]
  },
  {
   "cell_type": "code",
   "execution_count": 11,
   "metadata": {
    "pycharm": {
     "name": "#%%\n"
    }
   },
   "outputs": [
    {
     "data": {
      "text/html": [
       "\n",
       "    \n",
       "    <style type=\"text/css\">\n",
       "        .Table{\n",
       "            border-collapse:collapse;\n",
       "        }\n",
       "        .Table th{\n",
       "            background: #A0A0A0; color: #ffffff; padding:4px; border:#f0e0e0 1px solid;\n",
       "            font-weight: normal; font-family: monospace; font-size: 100%;\n",
       "        }\n",
       "        .Table td{\n",
       "            padding:4px; border:#f0e0e0 1px solid; font-size:100%;\n",
       "        }\n",
       "        .Table tr:nth-child(odd){\n",
       "            background: #ffffff;\n",
       "            color: #000000;\n",
       "        }\n",
       "        .Table tr:nth-child(even){\n",
       "            background: #f3f1ff;\n",
       "            color: #000000;\n",
       "        }\n",
       "        /* Tooltip container */\n",
       "        .djtooltip {\n",
       "        }\n",
       "        /* Tooltip text */\n",
       "        .djtooltip .djtooltiptext {\n",
       "            visibility: hidden;\n",
       "            width: 120px;\n",
       "            background-color: black;\n",
       "            color: #fff;\n",
       "            text-align: center;\n",
       "            padding: 5px 0;\n",
       "            border-radius: 6px;\n",
       "            /* Position the tooltip text - see examples below! */\n",
       "            position: absolute;\n",
       "            z-index: 1;\n",
       "        }\n",
       "        #primary {\n",
       "            font-weight: bold;\n",
       "            color: black;\n",
       "        }\n",
       "        #nonprimary {\n",
       "            font-weight: normal;\n",
       "            color: white;\n",
       "        }\n",
       "\n",
       "        /* Show the tooltip text when you mouse over the tooltip container */\n",
       "        .djtooltip:hover .djtooltiptext {\n",
       "            visibility: visible;\n",
       "        }\n",
       "    </style>\n",
       "    \n",
       "    <b></b>\n",
       "        <div style=\"max-height:1000px;max-width:1500px;overflow:auto;\">\n",
       "        <table border=\"1\" class=\"Table\">\n",
       "            <thead> <tr style=\"text-align: right;\"> <th> <div class=\"djtooltip\">\n",
       "                            <p id=\"primary\">session_id</p>\n",
       "                            <span class=\"djtooltiptext\"></span>\n",
       "                        </div></th><th><div class=\"djtooltip\">\n",
       "                            <p id=\"nonprimary\">session_fileset</p>\n",
       "                            <span class=\"djtooltiptext\"></span>\n",
       "                        </div> </th> </tr> </thead>\n",
       "            <tbody> <tr> <td>0</td>\n",
       "<td>=BLOB=</td> </tr> </tbody>\n",
       "        </table>\n",
       "        \n",
       "        <p>Total: 1</p></div>\n",
       "        "
      ],
      "text/plain": [
       "*session_id    session_fi\n",
       "+------------+ +--------+\n",
       "0              =BLOB=    \n",
       " (Total: 1)"
      ]
     },
     "execution_count": 11,
     "metadata": {},
     "output_type": "execute_result"
    }
   ],
   "source": [
    "Session()"
   ]
  },
  {
   "cell_type": "code",
   "execution_count": 12,
   "metadata": {
    "pycharm": {
     "name": "#%%\n"
    }
   },
   "outputs": [
    {
     "data": {
      "text/plain": [
       "['C:\\\\Users\\\\thinh\\\\Documents\\\\SciOps-data\\\\datajoint-python\\\\outbox\\\\report_figures\\\\m37_m37c2000r396_psychometric_curve.png',\n",
       " 'C:\\\\Users\\\\thinh\\\\Documents\\\\SciOps-data\\\\datajoint-python\\\\outbox\\\\report_figures\\\\m37_m37c2000r397_psychometric_curve.png',\n",
       " 'C:\\\\Users\\\\thinh\\\\Documents\\\\SciOps-data\\\\datajoint-python\\\\outbox\\\\report_figures\\\\m37_m37c2000r498_psychometric_curve.png',\n",
       " 'C:\\\\Users\\\\thinh\\\\Documents\\\\SciOps-data\\\\datajoint-python\\\\outbox\\\\report_figures\\\\m37_m37c2000r503_psychometric_curve.png',\n",
       " 'C:\\\\Users\\\\thinh\\\\Documents\\\\SciOps-data\\\\datajoint-python\\\\outbox\\\\report_figures\\\\m37_m37c2000r506_psychometric_curve.png',\n",
       " 'C:\\\\Users\\\\thinh\\\\Documents\\\\SciOps-data\\\\datajoint-python\\\\outbox\\\\report_figures\\\\m37_m37c2000r535_psychometric_curve.png',\n",
       " 'C:\\\\Users\\\\thinh\\\\Documents\\\\SciOps-data\\\\datajoint-python\\\\outbox\\\\report_figures\\\\m37_m37c2000r538_psychometric_curve.png',\n",
       " 'C:\\\\Users\\\\thinh\\\\Documents\\\\SciOps-data\\\\datajoint-python\\\\outbox\\\\report_figures\\\\m37_m37c2000r539_psychometric_curve.png',\n",
       " 'C:\\\\Users\\\\thinh\\\\Documents\\\\SciOps-data\\\\datajoint-python\\\\outbox\\\\report_figures\\\\m37_m37c2000r649_psychometric_curve.png',\n",
       " 'C:\\\\Users\\\\thinh\\\\Documents\\\\SciOps-data\\\\datajoint-python\\\\outbox\\\\report_figures\\\\m37_m37c2000r650_psychometric_curve.png',\n",
       " 'C:\\\\Users\\\\thinh\\\\Documents\\\\SciOps-data\\\\datajoint-python\\\\outbox\\\\report_figures\\\\m37_m37c212r7_psychometric_curve.png']"
      ]
     },
     "execution_count": 12,
     "metadata": {},
     "output_type": "execute_result"
    }
   ],
   "source": [
    "(Session & {'session_id': 0}).fetch1('session_fileset')"
   ]
  },
  {
   "cell_type": "markdown",
   "metadata": {
    "pycharm": {
     "name": "#%% md\n"
    }
   },
   "source": [
    "#### We can also check the contents of the schema-level `fileset` store"
   ]
  },
  {
   "cell_type": "code",
   "execution_count": 13,
   "metadata": {
    "pycharm": {
     "name": "#%%\n"
    }
   },
   "outputs": [
    {
     "data": {
      "text/html": [
       "\n",
       "    \n",
       "    <style type=\"text/css\">\n",
       "        .Table{\n",
       "            border-collapse:collapse;\n",
       "        }\n",
       "        .Table th{\n",
       "            background: #A0A0A0; color: #ffffff; padding:4px; border:#f0e0e0 1px solid;\n",
       "            font-weight: normal; font-family: monospace; font-size: 100%;\n",
       "        }\n",
       "        .Table td{\n",
       "            padding:4px; border:#f0e0e0 1px solid; font-size:100%;\n",
       "        }\n",
       "        .Table tr:nth-child(odd){\n",
       "            background: #ffffff;\n",
       "            color: #000000;\n",
       "        }\n",
       "        .Table tr:nth-child(even){\n",
       "            background: #f3f1ff;\n",
       "            color: #000000;\n",
       "        }\n",
       "        /* Tooltip container */\n",
       "        .djtooltip {\n",
       "        }\n",
       "        /* Tooltip text */\n",
       "        .djtooltip .djtooltiptext {\n",
       "            visibility: hidden;\n",
       "            width: 120px;\n",
       "            background-color: black;\n",
       "            color: #fff;\n",
       "            text-align: center;\n",
       "            padding: 5px 0;\n",
       "            border-radius: 6px;\n",
       "            /* Position the tooltip text - see examples below! */\n",
       "            position: absolute;\n",
       "            z-index: 1;\n",
       "        }\n",
       "        #primary {\n",
       "            font-weight: bold;\n",
       "            color: black;\n",
       "        }\n",
       "        #nonprimary {\n",
       "            font-weight: normal;\n",
       "            color: white;\n",
       "        }\n",
       "\n",
       "        /* Show the tooltip text when you mouse over the tooltip container */\n",
       "        .djtooltip:hover .djtooltiptext {\n",
       "            visibility: visible;\n",
       "        }\n",
       "    </style>\n",
       "    \n",
       "    <b></b>\n",
       "        <div style=\"max-height:1000px;max-width:1500px;overflow:auto;\">\n",
       "        <table border=\"1\" class=\"Table\">\n",
       "            <thead> <tr style=\"text-align: right;\"> <th> <div class=\"djtooltip\">\n",
       "                            <p id=\"primary\">fileset_id</p>\n",
       "                            <span class=\"djtooltiptext\">identifier for a fileset - computed from the aggregated checksum of all files in the fileset</span>\n",
       "                        </div></th><th><div class=\"djtooltip\">\n",
       "                            <p id=\"nonprimary\">fileset_root</p>\n",
       "                            <span class=\"djtooltiptext\">the commonpath of all files in the fileset</span>\n",
       "                        </div></th><th><div class=\"djtooltip\">\n",
       "                            <p id=\"nonprimary\">fileset_size</p>\n",
       "                            <span class=\"djtooltiptext\">size of the entire fileset in bytes</span>\n",
       "                        </div></th><th><div class=\"djtooltip\">\n",
       "                            <p id=\"nonprimary\">file_count</p>\n",
       "                            <span class=\"djtooltiptext\"></span>\n",
       "                        </div></th><th><div class=\"djtooltip\">\n",
       "                            <p id=\"nonprimary\">fileset_creation_time</p>\n",
       "                            <span class=\"djtooltiptext\">creation time (UTC) of the fileset</span>\n",
       "                        </div> </th> </tr> </thead>\n",
       "            <tbody> <tr> <td>ef052cdd-7714-e39a-0d1c-662eb6ebe9ea</td>\n",
       "<td>report_figures</td>\n",
       "<td>704886</td>\n",
       "<td>11</td>\n",
       "<td>2024-07-17 00:22:58</td> </tr> </tbody>\n",
       "        </table>\n",
       "        \n",
       "        <p>Total: 1</p></div>\n",
       "        "
      ],
      "text/plain": [
       "*fileset_id    fileset_root   fileset_size   file_count     fileset_creati\n",
       "+------------+ +------------+ +------------+ +------------+ +------------+\n",
       "ef052cdd-7714- report_figures 704886         11             2024-07-17 00:\n",
       " (Total: 1)"
      ]
     },
     "execution_count": 13,
     "metadata": {},
     "output_type": "execute_result"
    }
   ],
   "source": [
    "schema.fileset['file-store']"
   ]
  },
  {
   "cell_type": "code",
   "execution_count": 14,
   "metadata": {
    "pycharm": {
     "name": "#%%\n"
    }
   },
   "outputs": [
    {
     "data": {
      "text/plain": [
       "datajoint.external.FileSetTable.FileTable"
      ]
     },
     "execution_count": 14,
     "metadata": {},
     "output_type": "execute_result"
    }
   ],
   "source": [
    "schema.fileset['file-store'].File"
   ]
  },
  {
   "cell_type": "code",
   "execution_count": 15,
   "metadata": {},
   "outputs": [
    {
     "data": {
      "text/plain": [
       "datajoint.external.FileSetTable.FileTable"
      ]
     },
     "execution_count": 15,
     "metadata": {},
     "output_type": "execute_result"
    }
   ],
   "source": [
    "schema.fileset['file-store'].File"
   ]
  },
  {
   "cell_type": "code",
   "execution_count": 16,
   "metadata": {
    "pycharm": {
     "name": "#%%\n"
    }
   },
   "outputs": [
    {
     "data": {
      "text/html": [
       "\n",
       "    \n",
       "    <style type=\"text/css\">\n",
       "        .Table{\n",
       "            border-collapse:collapse;\n",
       "        }\n",
       "        .Table th{\n",
       "            background: #A0A0A0; color: #ffffff; padding:4px; border:#f0e0e0 1px solid;\n",
       "            font-weight: normal; font-family: monospace; font-size: 100%;\n",
       "        }\n",
       "        .Table td{\n",
       "            padding:4px; border:#f0e0e0 1px solid; font-size:100%;\n",
       "        }\n",
       "        .Table tr:nth-child(odd){\n",
       "            background: #ffffff;\n",
       "            color: #000000;\n",
       "        }\n",
       "        .Table tr:nth-child(even){\n",
       "            background: #f3f1ff;\n",
       "            color: #000000;\n",
       "        }\n",
       "        /* Tooltip container */\n",
       "        .djtooltip {\n",
       "        }\n",
       "        /* Tooltip text */\n",
       "        .djtooltip .djtooltiptext {\n",
       "            visibility: hidden;\n",
       "            width: 120px;\n",
       "            background-color: black;\n",
       "            color: #fff;\n",
       "            text-align: center;\n",
       "            padding: 5px 0;\n",
       "            border-radius: 6px;\n",
       "            /* Position the tooltip text - see examples below! */\n",
       "            position: absolute;\n",
       "            z-index: 1;\n",
       "        }\n",
       "        #primary {\n",
       "            font-weight: bold;\n",
       "            color: black;\n",
       "        }\n",
       "        #nonprimary {\n",
       "            font-weight: normal;\n",
       "            color: white;\n",
       "        }\n",
       "\n",
       "        /* Show the tooltip text when you mouse over the tooltip container */\n",
       "        .djtooltip:hover .djtooltiptext {\n",
       "            visibility: visible;\n",
       "        }\n",
       "    </style>\n",
       "    \n",
       "    <b>external storage tracking</b>\n",
       "        <div style=\"max-height:1000px;max-width:1500px;overflow:auto;\">\n",
       "        <table border=\"1\" class=\"Table\">\n",
       "            <thead> <tr style=\"text-align: right;\"> <th> <div class=\"djtooltip\">\n",
       "                            <p id=\"primary\">hash</p>\n",
       "                            <span class=\"djtooltiptext\">hash of contents (blob), of filename + contents (attach), or relative filepath (filepath)</span>\n",
       "                        </div></th><th><div class=\"djtooltip\">\n",
       "                            <p id=\"nonprimary\">size</p>\n",
       "                            <span class=\"djtooltiptext\">size of object in bytes</span>\n",
       "                        </div></th><th><div class=\"djtooltip\">\n",
       "                            <p id=\"nonprimary\">attachment_name</p>\n",
       "                            <span class=\"djtooltiptext\">the filename of an attachment</span>\n",
       "                        </div></th><th><div class=\"djtooltip\">\n",
       "                            <p id=\"nonprimary\">filepath</p>\n",
       "                            <span class=\"djtooltiptext\">relative filepath or attachment filename</span>\n",
       "                        </div></th><th><div class=\"djtooltip\">\n",
       "                            <p id=\"nonprimary\">contents_hash</p>\n",
       "                            <span class=\"djtooltiptext\">used for the filepath datatype</span>\n",
       "                        </div></th><th><div class=\"djtooltip\">\n",
       "                            <p id=\"nonprimary\">timestamp</p>\n",
       "                            <span class=\"djtooltiptext\">automatic timestamp</span>\n",
       "                        </div> </th> </tr> </thead>\n",
       "            <tbody> <tr> <td>0549ed90-1bd8-8ed8-8ce6-17062ab756e0</td>\n",
       "<td>66674</td>\n",
       "<td>None</td>\n",
       "<td>report_figures/m37_m37c2000r650_psychometric_curve.png</td>\n",
       "<td>f79642d0-baa9-b410-811f-990563290413</td>\n",
       "<td>2024-07-17 00:22:58</td></tr><tr><td>4797c923-e2ce-c7d9-797e-fdb34e93a8f2</td>\n",
       "<td>69809</td>\n",
       "<td>None</td>\n",
       "<td>report_figures/m37_m37c2000r397_psychometric_curve.png</td>\n",
       "<td>60684f90-512e-2266-f1b1-3a9988fb625c</td>\n",
       "<td>2024-07-17 00:22:58</td></tr><tr><td>4c9bcfc2-914b-f301-d3e6-a428c86411d9</td>\n",
       "<td>85124</td>\n",
       "<td>None</td>\n",
       "<td>report_figures/m37_m37c2000r396_psychometric_curve.png</td>\n",
       "<td>7cceba60-a79e-213d-bb26-a2364bfedf55</td>\n",
       "<td>2024-07-17 00:22:58</td></tr><tr><td>6169fa12-4bea-6de4-0d4e-9a04bbb20929</td>\n",
       "<td>68675</td>\n",
       "<td>None</td>\n",
       "<td>report_figures/m37_m37c212r7_psychometric_curve.png</td>\n",
       "<td>aad2ee9f-8fbd-87df-cc7d-2a74302fbbf4</td>\n",
       "<td>2024-07-17 00:22:58</td></tr><tr><td>789aa3ef-18a7-75a7-f735-89dfba8c1688</td>\n",
       "<td>68996</td>\n",
       "<td>None</td>\n",
       "<td>report_figures/m37_m37c2000r539_psychometric_curve.png</td>\n",
       "<td>25ae864c-1c2c-5f0c-1a9a-7cfaebe9097c</td>\n",
       "<td>2024-07-17 00:22:58</td></tr><tr><td>7a31742e-db74-4325-732f-db762d351fdf</td>\n",
       "<td>68334</td>\n",
       "<td>None</td>\n",
       "<td>report_figures/m37_m37c2000r649_psychometric_curve.png</td>\n",
       "<td>10a7a0a7-3e3a-6656-ad2b-bc177107e4be</td>\n",
       "<td>2024-07-17 00:22:58</td></tr><tr><td>7b7a16db-a81b-d606-1adb-322adadc403e</td>\n",
       "<td>43696</td>\n",
       "<td>None</td>\n",
       "<td>report_figures/m37_m37c2000r538_psychometric_curve.png</td>\n",
       "<td>2963bed7-1033-350d-44a4-98ecb9c55e73</td>\n",
       "<td>2024-07-17 00:22:58</td></tr><tr><td>9e86bdfa-91db-3278-288c-05c6442135f6</td>\n",
       "<td>42620</td>\n",
       "<td>None</td>\n",
       "<td>report_figures/m37_m37c2000r535_psychometric_curve.png</td>\n",
       "<td>ddd08a40-a152-8262-4a96-c75b4d448300</td>\n",
       "<td>2024-07-17 00:22:58</td></tr><tr><td>9eec6c50-2061-5261-d04b-27223ce85da5</td>\n",
       "<td>67442</td>\n",
       "<td>None</td>\n",
       "<td>report_figures/m37_m37c2000r506_psychometric_curve.png</td>\n",
       "<td>e0c817b1-45cd-47f6-b431-a568e648730c</td>\n",
       "<td>2024-07-17 00:22:58</td></tr><tr><td>a8409d57-729c-ef9b-1558-882890c448d9</td>\n",
       "<td>57842</td>\n",
       "<td>None</td>\n",
       "<td>report_figures/m37_m37c2000r503_psychometric_curve.png</td>\n",
       "<td>6daebf37-867a-db5b-288e-f70b28e1a60e</td>\n",
       "<td>2024-07-17 00:22:58</td></tr><tr><td>e8fba290-bd1a-b422-fed1-12ae0dd0357e</td>\n",
       "<td>65674</td>\n",
       "<td>None</td>\n",
       "<td>report_figures/m37_m37c2000r498_psychometric_curve.png</td>\n",
       "<td>c8b666c0-bc37-5e21-0c58-50140a66e25e</td>\n",
       "<td>2024-07-17 00:22:58</td> </tr> </tbody>\n",
       "        </table>\n",
       "        \n",
       "        <p>Total: 11</p></div>\n",
       "        "
      ],
      "text/plain": [
       "*hash          size      attachment_nam filepath       contents_hash  timestamp     \n",
       "+------------+ +-------+ +------------+ +------------+ +------------+ +------------+\n",
       "0549ed90-1bd8- 66674     None           report_figures f79642d0-baa9- 2024-07-17 00:\n",
       "4797c923-e2ce- 69809     None           report_figures 60684f90-512e- 2024-07-17 00:\n",
       "4c9bcfc2-914b- 85124     None           report_figures 7cceba60-a79e- 2024-07-17 00:\n",
       "6169fa12-4bea- 68675     None           report_figures aad2ee9f-8fbd- 2024-07-17 00:\n",
       "789aa3ef-18a7- 68996     None           report_figures 25ae864c-1c2c- 2024-07-17 00:\n",
       "7a31742e-db74- 68334     None           report_figures 10a7a0a7-3e3a- 2024-07-17 00:\n",
       "7b7a16db-a81b- 43696     None           report_figures 2963bed7-1033- 2024-07-17 00:\n",
       "9e86bdfa-91db- 42620     None           report_figures ddd08a40-a152- 2024-07-17 00:\n",
       "9eec6c50-2061- 67442     None           report_figures e0c817b1-45cd- 2024-07-17 00:\n",
       "a8409d57-729c- 57842     None           report_figures 6daebf37-867a- 2024-07-17 00:\n",
       "e8fba290-bd1a- 65674     None           report_figures c8b666c0-bc37- 2024-07-17 00:\n",
       " (Total: 11)"
      ]
     },
     "execution_count": 16,
     "metadata": {},
     "output_type": "execute_result"
    }
   ],
   "source": [
    "schema.external['file-store']"
   ]
  },
  {
   "cell_type": "markdown",
   "metadata": {
    "pycharm": {
     "name": "#%% md\n"
    }
   },
   "source": [
    "#### Now, let's add another entry into `Session` with the same fileset"
   ]
  },
  {
   "cell_type": "code",
   "execution_count": 17,
   "metadata": {
    "pycharm": {
     "name": "#%%\n"
    }
   },
   "outputs": [],
   "source": [
    "Session.insert1((1, data_dir))"
   ]
  },
  {
   "cell_type": "code",
   "execution_count": 18,
   "metadata": {
    "pycharm": {
     "name": "#%%\n"
    }
   },
   "outputs": [
    {
     "data": {
      "text/html": [
       "\n",
       "    \n",
       "    <style type=\"text/css\">\n",
       "        .Table{\n",
       "            border-collapse:collapse;\n",
       "        }\n",
       "        .Table th{\n",
       "            background: #A0A0A0; color: #ffffff; padding:4px; border:#f0e0e0 1px solid;\n",
       "            font-weight: normal; font-family: monospace; font-size: 100%;\n",
       "        }\n",
       "        .Table td{\n",
       "            padding:4px; border:#f0e0e0 1px solid; font-size:100%;\n",
       "        }\n",
       "        .Table tr:nth-child(odd){\n",
       "            background: #ffffff;\n",
       "            color: #000000;\n",
       "        }\n",
       "        .Table tr:nth-child(even){\n",
       "            background: #f3f1ff;\n",
       "            color: #000000;\n",
       "        }\n",
       "        /* Tooltip container */\n",
       "        .djtooltip {\n",
       "        }\n",
       "        /* Tooltip text */\n",
       "        .djtooltip .djtooltiptext {\n",
       "            visibility: hidden;\n",
       "            width: 120px;\n",
       "            background-color: black;\n",
       "            color: #fff;\n",
       "            text-align: center;\n",
       "            padding: 5px 0;\n",
       "            border-radius: 6px;\n",
       "            /* Position the tooltip text - see examples below! */\n",
       "            position: absolute;\n",
       "            z-index: 1;\n",
       "        }\n",
       "        #primary {\n",
       "            font-weight: bold;\n",
       "            color: black;\n",
       "        }\n",
       "        #nonprimary {\n",
       "            font-weight: normal;\n",
       "            color: white;\n",
       "        }\n",
       "\n",
       "        /* Show the tooltip text when you mouse over the tooltip container */\n",
       "        .djtooltip:hover .djtooltiptext {\n",
       "            visibility: visible;\n",
       "        }\n",
       "    </style>\n",
       "    \n",
       "    <b></b>\n",
       "        <div style=\"max-height:1000px;max-width:1500px;overflow:auto;\">\n",
       "        <table border=\"1\" class=\"Table\">\n",
       "            <thead> <tr style=\"text-align: right;\"> <th> <div class=\"djtooltip\">\n",
       "                            <p id=\"primary\">session_id</p>\n",
       "                            <span class=\"djtooltiptext\"></span>\n",
       "                        </div></th><th><div class=\"djtooltip\">\n",
       "                            <p id=\"nonprimary\">session_fileset</p>\n",
       "                            <span class=\"djtooltiptext\"></span>\n",
       "                        </div> </th> </tr> </thead>\n",
       "            <tbody> <tr> <td>0</td>\n",
       "<td>=BLOB=</td></tr><tr><td>1</td>\n",
       "<td>=BLOB=</td> </tr> </tbody>\n",
       "        </table>\n",
       "        \n",
       "        <p>Total: 2</p></div>\n",
       "        "
      ],
      "text/plain": [
       "*session_id    session_fi\n",
       "+------------+ +--------+\n",
       "0              =BLOB=    \n",
       "1              =BLOB=    \n",
       " (Total: 2)"
      ]
     },
     "execution_count": 18,
     "metadata": {},
     "output_type": "execute_result"
    }
   ],
   "source": [
    "Session()"
   ]
  },
  {
   "cell_type": "markdown",
   "metadata": {
    "pycharm": {
     "name": "#%% md\n"
    }
   },
   "source": [
    "#### Check the external fileset again, we should not expect file duplications"
   ]
  },
  {
   "cell_type": "code",
   "execution_count": 19,
   "metadata": {
    "pycharm": {
     "name": "#%%\n"
    }
   },
   "outputs": [
    {
     "data": {
      "text/html": [
       "\n",
       "    \n",
       "    <style type=\"text/css\">\n",
       "        .Table{\n",
       "            border-collapse:collapse;\n",
       "        }\n",
       "        .Table th{\n",
       "            background: #A0A0A0; color: #ffffff; padding:4px; border:#f0e0e0 1px solid;\n",
       "            font-weight: normal; font-family: monospace; font-size: 100%;\n",
       "        }\n",
       "        .Table td{\n",
       "            padding:4px; border:#f0e0e0 1px solid; font-size:100%;\n",
       "        }\n",
       "        .Table tr:nth-child(odd){\n",
       "            background: #ffffff;\n",
       "            color: #000000;\n",
       "        }\n",
       "        .Table tr:nth-child(even){\n",
       "            background: #f3f1ff;\n",
       "            color: #000000;\n",
       "        }\n",
       "        /* Tooltip container */\n",
       "        .djtooltip {\n",
       "        }\n",
       "        /* Tooltip text */\n",
       "        .djtooltip .djtooltiptext {\n",
       "            visibility: hidden;\n",
       "            width: 120px;\n",
       "            background-color: black;\n",
       "            color: #fff;\n",
       "            text-align: center;\n",
       "            padding: 5px 0;\n",
       "            border-radius: 6px;\n",
       "            /* Position the tooltip text - see examples below! */\n",
       "            position: absolute;\n",
       "            z-index: 1;\n",
       "        }\n",
       "        #primary {\n",
       "            font-weight: bold;\n",
       "            color: black;\n",
       "        }\n",
       "        #nonprimary {\n",
       "            font-weight: normal;\n",
       "            color: white;\n",
       "        }\n",
       "\n",
       "        /* Show the tooltip text when you mouse over the tooltip container */\n",
       "        .djtooltip:hover .djtooltiptext {\n",
       "            visibility: visible;\n",
       "        }\n",
       "    </style>\n",
       "    \n",
       "    <b>external storage tracking</b>\n",
       "        <div style=\"max-height:1000px;max-width:1500px;overflow:auto;\">\n",
       "        <table border=\"1\" class=\"Table\">\n",
       "            <thead> <tr style=\"text-align: right;\"> <th> <div class=\"djtooltip\">\n",
       "                            <p id=\"primary\">hash</p>\n",
       "                            <span class=\"djtooltiptext\">hash of contents (blob), of filename + contents (attach), or relative filepath (filepath)</span>\n",
       "                        </div></th><th><div class=\"djtooltip\">\n",
       "                            <p id=\"nonprimary\">size</p>\n",
       "                            <span class=\"djtooltiptext\">size of object in bytes</span>\n",
       "                        </div></th><th><div class=\"djtooltip\">\n",
       "                            <p id=\"nonprimary\">attachment_name</p>\n",
       "                            <span class=\"djtooltiptext\">the filename of an attachment</span>\n",
       "                        </div></th><th><div class=\"djtooltip\">\n",
       "                            <p id=\"nonprimary\">filepath</p>\n",
       "                            <span class=\"djtooltiptext\">relative filepath or attachment filename</span>\n",
       "                        </div></th><th><div class=\"djtooltip\">\n",
       "                            <p id=\"nonprimary\">contents_hash</p>\n",
       "                            <span class=\"djtooltiptext\">used for the filepath datatype</span>\n",
       "                        </div></th><th><div class=\"djtooltip\">\n",
       "                            <p id=\"nonprimary\">timestamp</p>\n",
       "                            <span class=\"djtooltiptext\">automatic timestamp</span>\n",
       "                        </div> </th> </tr> </thead>\n",
       "            <tbody> <tr> <td>0549ed90-1bd8-8ed8-8ce6-17062ab756e0</td>\n",
       "<td>66674</td>\n",
       "<td>None</td>\n",
       "<td>report_figures/m37_m37c2000r650_psychometric_curve.png</td>\n",
       "<td>f79642d0-baa9-b410-811f-990563290413</td>\n",
       "<td>2024-07-17 00:22:58</td></tr><tr><td>4797c923-e2ce-c7d9-797e-fdb34e93a8f2</td>\n",
       "<td>69809</td>\n",
       "<td>None</td>\n",
       "<td>report_figures/m37_m37c2000r397_psychometric_curve.png</td>\n",
       "<td>60684f90-512e-2266-f1b1-3a9988fb625c</td>\n",
       "<td>2024-07-17 00:22:58</td></tr><tr><td>4c9bcfc2-914b-f301-d3e6-a428c86411d9</td>\n",
       "<td>85124</td>\n",
       "<td>None</td>\n",
       "<td>report_figures/m37_m37c2000r396_psychometric_curve.png</td>\n",
       "<td>7cceba60-a79e-213d-bb26-a2364bfedf55</td>\n",
       "<td>2024-07-17 00:22:58</td></tr><tr><td>6169fa12-4bea-6de4-0d4e-9a04bbb20929</td>\n",
       "<td>68675</td>\n",
       "<td>None</td>\n",
       "<td>report_figures/m37_m37c212r7_psychometric_curve.png</td>\n",
       "<td>aad2ee9f-8fbd-87df-cc7d-2a74302fbbf4</td>\n",
       "<td>2024-07-17 00:22:58</td></tr><tr><td>789aa3ef-18a7-75a7-f735-89dfba8c1688</td>\n",
       "<td>68996</td>\n",
       "<td>None</td>\n",
       "<td>report_figures/m37_m37c2000r539_psychometric_curve.png</td>\n",
       "<td>25ae864c-1c2c-5f0c-1a9a-7cfaebe9097c</td>\n",
       "<td>2024-07-17 00:22:58</td></tr><tr><td>7a31742e-db74-4325-732f-db762d351fdf</td>\n",
       "<td>68334</td>\n",
       "<td>None</td>\n",
       "<td>report_figures/m37_m37c2000r649_psychometric_curve.png</td>\n",
       "<td>10a7a0a7-3e3a-6656-ad2b-bc177107e4be</td>\n",
       "<td>2024-07-17 00:22:58</td></tr><tr><td>7b7a16db-a81b-d606-1adb-322adadc403e</td>\n",
       "<td>43696</td>\n",
       "<td>None</td>\n",
       "<td>report_figures/m37_m37c2000r538_psychometric_curve.png</td>\n",
       "<td>2963bed7-1033-350d-44a4-98ecb9c55e73</td>\n",
       "<td>2024-07-17 00:22:58</td></tr><tr><td>9e86bdfa-91db-3278-288c-05c6442135f6</td>\n",
       "<td>42620</td>\n",
       "<td>None</td>\n",
       "<td>report_figures/m37_m37c2000r535_psychometric_curve.png</td>\n",
       "<td>ddd08a40-a152-8262-4a96-c75b4d448300</td>\n",
       "<td>2024-07-17 00:22:58</td></tr><tr><td>9eec6c50-2061-5261-d04b-27223ce85da5</td>\n",
       "<td>67442</td>\n",
       "<td>None</td>\n",
       "<td>report_figures/m37_m37c2000r506_psychometric_curve.png</td>\n",
       "<td>e0c817b1-45cd-47f6-b431-a568e648730c</td>\n",
       "<td>2024-07-17 00:22:58</td></tr><tr><td>a8409d57-729c-ef9b-1558-882890c448d9</td>\n",
       "<td>57842</td>\n",
       "<td>None</td>\n",
       "<td>report_figures/m37_m37c2000r503_psychometric_curve.png</td>\n",
       "<td>6daebf37-867a-db5b-288e-f70b28e1a60e</td>\n",
       "<td>2024-07-17 00:22:58</td></tr><tr><td>e8fba290-bd1a-b422-fed1-12ae0dd0357e</td>\n",
       "<td>65674</td>\n",
       "<td>None</td>\n",
       "<td>report_figures/m37_m37c2000r498_psychometric_curve.png</td>\n",
       "<td>c8b666c0-bc37-5e21-0c58-50140a66e25e</td>\n",
       "<td>2024-07-17 00:22:58</td> </tr> </tbody>\n",
       "        </table>\n",
       "        \n",
       "        <p>Total: 11</p></div>\n",
       "        "
      ],
      "text/plain": [
       "*hash          size      attachment_nam filepath       contents_hash  timestamp     \n",
       "+------------+ +-------+ +------------+ +------------+ +------------+ +------------+\n",
       "0549ed90-1bd8- 66674     None           report_figures f79642d0-baa9- 2024-07-17 00:\n",
       "4797c923-e2ce- 69809     None           report_figures 60684f90-512e- 2024-07-17 00:\n",
       "4c9bcfc2-914b- 85124     None           report_figures 7cceba60-a79e- 2024-07-17 00:\n",
       "6169fa12-4bea- 68675     None           report_figures aad2ee9f-8fbd- 2024-07-17 00:\n",
       "789aa3ef-18a7- 68996     None           report_figures 25ae864c-1c2c- 2024-07-17 00:\n",
       "7a31742e-db74- 68334     None           report_figures 10a7a0a7-3e3a- 2024-07-17 00:\n",
       "7b7a16db-a81b- 43696     None           report_figures 2963bed7-1033- 2024-07-17 00:\n",
       "9e86bdfa-91db- 42620     None           report_figures ddd08a40-a152- 2024-07-17 00:\n",
       "9eec6c50-2061- 67442     None           report_figures e0c817b1-45cd- 2024-07-17 00:\n",
       "a8409d57-729c- 57842     None           report_figures 6daebf37-867a- 2024-07-17 00:\n",
       "e8fba290-bd1a- 65674     None           report_figures c8b666c0-bc37- 2024-07-17 00:\n",
       " (Total: 11)"
      ]
     },
     "execution_count": 19,
     "metadata": {},
     "output_type": "execute_result"
    }
   ],
   "source": [
    "schema.external['file-store']"
   ]
  },
  {
   "cell_type": "code",
   "execution_count": 20,
   "metadata": {
    "pycharm": {
     "name": "#%%\n"
    }
   },
   "outputs": [
    {
     "data": {
      "text/html": [
       "\n",
       "    \n",
       "    <style type=\"text/css\">\n",
       "        .Table{\n",
       "            border-collapse:collapse;\n",
       "        }\n",
       "        .Table th{\n",
       "            background: #A0A0A0; color: #ffffff; padding:4px; border:#f0e0e0 1px solid;\n",
       "            font-weight: normal; font-family: monospace; font-size: 100%;\n",
       "        }\n",
       "        .Table td{\n",
       "            padding:4px; border:#f0e0e0 1px solid; font-size:100%;\n",
       "        }\n",
       "        .Table tr:nth-child(odd){\n",
       "            background: #ffffff;\n",
       "            color: #000000;\n",
       "        }\n",
       "        .Table tr:nth-child(even){\n",
       "            background: #f3f1ff;\n",
       "            color: #000000;\n",
       "        }\n",
       "        /* Tooltip container */\n",
       "        .djtooltip {\n",
       "        }\n",
       "        /* Tooltip text */\n",
       "        .djtooltip .djtooltiptext {\n",
       "            visibility: hidden;\n",
       "            width: 120px;\n",
       "            background-color: black;\n",
       "            color: #fff;\n",
       "            text-align: center;\n",
       "            padding: 5px 0;\n",
       "            border-radius: 6px;\n",
       "            /* Position the tooltip text - see examples below! */\n",
       "            position: absolute;\n",
       "            z-index: 1;\n",
       "        }\n",
       "        #primary {\n",
       "            font-weight: bold;\n",
       "            color: black;\n",
       "        }\n",
       "        #nonprimary {\n",
       "            font-weight: normal;\n",
       "            color: white;\n",
       "        }\n",
       "\n",
       "        /* Show the tooltip text when you mouse over the tooltip container */\n",
       "        .djtooltip:hover .djtooltiptext {\n",
       "            visibility: visible;\n",
       "        }\n",
       "    </style>\n",
       "    \n",
       "    <b></b>\n",
       "        <div style=\"max-height:1000px;max-width:1500px;overflow:auto;\">\n",
       "        <table border=\"1\" class=\"Table\">\n",
       "            <thead> <tr style=\"text-align: right;\"> <th> <div class=\"djtooltip\">\n",
       "                            <p id=\"primary\">fileset_id</p>\n",
       "                            <span class=\"djtooltiptext\">identifier for a fileset - computed from the aggregated checksum of all files in the fileset</span>\n",
       "                        </div></th><th><div class=\"djtooltip\">\n",
       "                            <p id=\"nonprimary\">fileset_root</p>\n",
       "                            <span class=\"djtooltiptext\">the commonpath of all files in the fileset</span>\n",
       "                        </div></th><th><div class=\"djtooltip\">\n",
       "                            <p id=\"nonprimary\">fileset_size</p>\n",
       "                            <span class=\"djtooltiptext\">size of the entire fileset in bytes</span>\n",
       "                        </div></th><th><div class=\"djtooltip\">\n",
       "                            <p id=\"nonprimary\">file_count</p>\n",
       "                            <span class=\"djtooltiptext\"></span>\n",
       "                        </div></th><th><div class=\"djtooltip\">\n",
       "                            <p id=\"nonprimary\">fileset_creation_time</p>\n",
       "                            <span class=\"djtooltiptext\">creation time (UTC) of the fileset</span>\n",
       "                        </div> </th> </tr> </thead>\n",
       "            <tbody> <tr> <td>ef052cdd-7714-e39a-0d1c-662eb6ebe9ea</td>\n",
       "<td>report_figures</td>\n",
       "<td>704886</td>\n",
       "<td>11</td>\n",
       "<td>2024-07-17 00:22:58</td> </tr> </tbody>\n",
       "        </table>\n",
       "        \n",
       "        <p>Total: 1</p></div>\n",
       "        "
      ],
      "text/plain": [
       "*fileset_id    fileset_root   fileset_size   file_count     fileset_creati\n",
       "+------------+ +------------+ +------------+ +------------+ +------------+\n",
       "ef052cdd-7714- report_figures 704886         11             2024-07-17 00:\n",
       " (Total: 1)"
      ]
     },
     "execution_count": 20,
     "metadata": {},
     "output_type": "execute_result"
    }
   ],
   "source": [
    "schema.fileset['file-store']"
   ]
  },
  {
   "cell_type": "code",
   "execution_count": 21,
   "metadata": {
    "pycharm": {
     "name": "#%%\n"
    }
   },
   "outputs": [
    {
     "data": {
      "text/plain": [
       "datajoint.external.FileSetTable.FileTable"
      ]
     },
     "execution_count": 21,
     "metadata": {},
     "output_type": "execute_result"
    }
   ],
   "source": [
    "schema.fileset['file-store'].File"
   ]
  },
  {
   "cell_type": "markdown",
   "metadata": {},
   "source": [
    "#### Next, let's introduce a new fileset - we'll use a subset of the files within the data directory"
   ]
  },
  {
   "cell_type": "code",
   "execution_count": 22,
   "metadata": {},
   "outputs": [],
   "source": [
    "fileset2 = list(Path(data_dir).glob(\"*c2000*\"))"
   ]
  },
  {
   "cell_type": "code",
   "execution_count": 23,
   "metadata": {},
   "outputs": [
    {
     "data": {
      "text/plain": [
       "[WindowsPath('C:/Users/thinh/Documents/SciOps-data/datajoint-python/outbox/report_figures/m37_m37c2000r396_psychometric_curve.png'),\n",
       " WindowsPath('C:/Users/thinh/Documents/SciOps-data/datajoint-python/outbox/report_figures/m37_m37c2000r397_psychometric_curve.png'),\n",
       " WindowsPath('C:/Users/thinh/Documents/SciOps-data/datajoint-python/outbox/report_figures/m37_m37c2000r498_psychometric_curve.png'),\n",
       " WindowsPath('C:/Users/thinh/Documents/SciOps-data/datajoint-python/outbox/report_figures/m37_m37c2000r503_psychometric_curve.png'),\n",
       " WindowsPath('C:/Users/thinh/Documents/SciOps-data/datajoint-python/outbox/report_figures/m37_m37c2000r506_psychometric_curve.png'),\n",
       " WindowsPath('C:/Users/thinh/Documents/SciOps-data/datajoint-python/outbox/report_figures/m37_m37c2000r535_psychometric_curve.png'),\n",
       " WindowsPath('C:/Users/thinh/Documents/SciOps-data/datajoint-python/outbox/report_figures/m37_m37c2000r538_psychometric_curve.png'),\n",
       " WindowsPath('C:/Users/thinh/Documents/SciOps-data/datajoint-python/outbox/report_figures/m37_m37c2000r539_psychometric_curve.png'),\n",
       " WindowsPath('C:/Users/thinh/Documents/SciOps-data/datajoint-python/outbox/report_figures/m37_m37c2000r649_psychometric_curve.png'),\n",
       " WindowsPath('C:/Users/thinh/Documents/SciOps-data/datajoint-python/outbox/report_figures/m37_m37c2000r650_psychometric_curve.png')]"
      ]
     },
     "execution_count": 23,
     "metadata": {},
     "output_type": "execute_result"
    }
   ],
   "source": [
    "fileset2"
   ]
  },
  {
   "cell_type": "markdown",
   "metadata": {
    "pycharm": {
     "name": "#%% md\n"
    }
   },
   "source": [
    "#### One more time - we'll use the same files from \"data_dir\" plus one more file"
   ]
  },
  {
   "cell_type": "code",
   "execution_count": 24,
   "metadata": {
    "pycharm": {
     "name": "#%%\n"
    }
   },
   "outputs": [
    {
     "data": {
      "text/plain": [
       "WindowsPath('C:/Users/thinh/Documents/SciOps-data/datajoint-python/outbox/report_figures')"
      ]
     },
     "execution_count": 24,
     "metadata": {},
     "output_type": "execute_result"
    }
   ],
   "source": [
    "data_dir"
   ]
  },
  {
   "cell_type": "code",
   "execution_count": 25,
   "metadata": {
    "pycharm": {
     "name": "#%%\n"
    }
   },
   "outputs": [
    {
     "data": {
      "text/plain": [
       "[WindowsPath('C:/Users/thinh/Documents/SciOps-data/datajoint-python/outbox/bistab'),\n",
       " WindowsPath('C:/Users/thinh/Documents/SciOps-data/datajoint-python/outbox/report_figures')]"
      ]
     },
     "execution_count": 25,
     "metadata": {},
     "output_type": "execute_result"
    }
   ],
   "source": [
    "list(Path(data_dir.parent).glob(\"*\"))"
   ]
  },
  {
   "cell_type": "code",
   "execution_count": 26,
   "metadata": {
    "pycharm": {
     "name": "#%%\n"
    }
   },
   "outputs": [],
   "source": [
    "fileset3 = list(data_dir.rglob(\"*\")) + [Path('C:/Users/thinh/Documents/SciOps-data/datajoint-python/outbox/bistab/bistab_0001.h5')]"
   ]
  },
  {
   "cell_type": "code",
   "execution_count": 27,
   "metadata": {
    "pycharm": {
     "name": "#%%\n"
    }
   },
   "outputs": [
    {
     "data": {
      "text/plain": [
       "[WindowsPath('C:/Users/thinh/Documents/SciOps-data/datajoint-python/outbox/report_figures/m37_m37c2000r396_psychometric_curve.png'),\n",
       " WindowsPath('C:/Users/thinh/Documents/SciOps-data/datajoint-python/outbox/report_figures/m37_m37c2000r397_psychometric_curve.png'),\n",
       " WindowsPath('C:/Users/thinh/Documents/SciOps-data/datajoint-python/outbox/report_figures/m37_m37c2000r498_psychometric_curve.png'),\n",
       " WindowsPath('C:/Users/thinh/Documents/SciOps-data/datajoint-python/outbox/report_figures/m37_m37c2000r503_psychometric_curve.png'),\n",
       " WindowsPath('C:/Users/thinh/Documents/SciOps-data/datajoint-python/outbox/report_figures/m37_m37c2000r506_psychometric_curve.png'),\n",
       " WindowsPath('C:/Users/thinh/Documents/SciOps-data/datajoint-python/outbox/report_figures/m37_m37c2000r535_psychometric_curve.png'),\n",
       " WindowsPath('C:/Users/thinh/Documents/SciOps-data/datajoint-python/outbox/report_figures/m37_m37c2000r538_psychometric_curve.png'),\n",
       " WindowsPath('C:/Users/thinh/Documents/SciOps-data/datajoint-python/outbox/report_figures/m37_m37c2000r539_psychometric_curve.png'),\n",
       " WindowsPath('C:/Users/thinh/Documents/SciOps-data/datajoint-python/outbox/report_figures/m37_m37c2000r649_psychometric_curve.png'),\n",
       " WindowsPath('C:/Users/thinh/Documents/SciOps-data/datajoint-python/outbox/report_figures/m37_m37c2000r650_psychometric_curve.png'),\n",
       " WindowsPath('C:/Users/thinh/Documents/SciOps-data/datajoint-python/outbox/report_figures/m37_m37c212r7_psychometric_curve.png'),\n",
       " WindowsPath('C:/Users/thinh/Documents/SciOps-data/datajoint-python/outbox/bistab/bistab_0001.h5')]"
      ]
     },
     "execution_count": 27,
     "metadata": {},
     "output_type": "execute_result"
    }
   ],
   "source": [
    "fileset3"
   ]
  },
  {
   "cell_type": "markdown",
   "metadata": {
    "pycharm": {
     "name": "#%% md\n"
    }
   },
   "source": [
    "#### Insert new record into Session - `fileset` type can be inserted as a list of paths"
   ]
  },
  {
   "cell_type": "code",
   "execution_count": 28,
   "metadata": {
    "pycharm": {
     "name": "#%%\n"
    }
   },
   "outputs": [],
   "source": [
    "Session.insert1((2, fileset2))"
   ]
  },
  {
   "cell_type": "code",
   "execution_count": 29,
   "metadata": {},
   "outputs": [],
   "source": [
    "Session.insert1((3, fileset3))"
   ]
  },
  {
   "cell_type": "code",
   "execution_count": 31,
   "metadata": {
    "pycharm": {
     "name": "#%%\n"
    }
   },
   "outputs": [
    {
     "data": {
      "text/html": [
       "\n",
       "    \n",
       "    <style type=\"text/css\">\n",
       "        .Table{\n",
       "            border-collapse:collapse;\n",
       "        }\n",
       "        .Table th{\n",
       "            background: #A0A0A0; color: #ffffff; padding:4px; border:#f0e0e0 1px solid;\n",
       "            font-weight: normal; font-family: monospace; font-size: 100%;\n",
       "        }\n",
       "        .Table td{\n",
       "            padding:4px; border:#f0e0e0 1px solid; font-size:100%;\n",
       "        }\n",
       "        .Table tr:nth-child(odd){\n",
       "            background: #ffffff;\n",
       "            color: #000000;\n",
       "        }\n",
       "        .Table tr:nth-child(even){\n",
       "            background: #f3f1ff;\n",
       "            color: #000000;\n",
       "        }\n",
       "        /* Tooltip container */\n",
       "        .djtooltip {\n",
       "        }\n",
       "        /* Tooltip text */\n",
       "        .djtooltip .djtooltiptext {\n",
       "            visibility: hidden;\n",
       "            width: 120px;\n",
       "            background-color: black;\n",
       "            color: #fff;\n",
       "            text-align: center;\n",
       "            padding: 5px 0;\n",
       "            border-radius: 6px;\n",
       "            /* Position the tooltip text - see examples below! */\n",
       "            position: absolute;\n",
       "            z-index: 1;\n",
       "        }\n",
       "        #primary {\n",
       "            font-weight: bold;\n",
       "            color: black;\n",
       "        }\n",
       "        #nonprimary {\n",
       "            font-weight: normal;\n",
       "            color: white;\n",
       "        }\n",
       "\n",
       "        /* Show the tooltip text when you mouse over the tooltip container */\n",
       "        .djtooltip:hover .djtooltiptext {\n",
       "            visibility: visible;\n",
       "        }\n",
       "    </style>\n",
       "    \n",
       "    <b></b>\n",
       "        <div style=\"max-height:1000px;max-width:1500px;overflow:auto;\">\n",
       "        <table border=\"1\" class=\"Table\">\n",
       "            <thead> <tr style=\"text-align: right;\"> <th> <div class=\"djtooltip\">\n",
       "                            <p id=\"primary\">session_id</p>\n",
       "                            <span class=\"djtooltiptext\"></span>\n",
       "                        </div></th><th><div class=\"djtooltip\">\n",
       "                            <p id=\"nonprimary\">session_fileset</p>\n",
       "                            <span class=\"djtooltiptext\"></span>\n",
       "                        </div> </th> </tr> </thead>\n",
       "            <tbody> <tr> <td>2</td>\n",
       "<td>=BLOB=</td></tr><tr><td>3</td>\n",
       "<td>=BLOB=</td></tr><tr><td>0</td>\n",
       "<td>=BLOB=</td></tr><tr><td>1</td>\n",
       "<td>=BLOB=</td> </tr> </tbody>\n",
       "        </table>\n",
       "        \n",
       "        <p>Total: 4</p></div>\n",
       "        "
      ],
      "text/plain": [
       "*session_id    session_fi\n",
       "+------------+ +--------+\n",
       "2              =BLOB=    \n",
       "3              =BLOB=    \n",
       "0              =BLOB=    \n",
       "1              =BLOB=    \n",
       " (Total: 4)"
      ]
     },
     "execution_count": 31,
     "metadata": {},
     "output_type": "execute_result"
    }
   ],
   "source": [
    "Session()"
   ]
  },
  {
   "cell_type": "markdown",
   "metadata": {
    "pycharm": {
     "name": "#%% md\n"
    }
   },
   "source": [
    "#### Let's check the external fileset store again"
   ]
  },
  {
   "cell_type": "code",
   "execution_count": 32,
   "metadata": {
    "pycharm": {
     "name": "#%%\n"
    }
   },
   "outputs": [
    {
     "data": {
      "text/html": [
       "\n",
       "    \n",
       "    <style type=\"text/css\">\n",
       "        .Table{\n",
       "            border-collapse:collapse;\n",
       "        }\n",
       "        .Table th{\n",
       "            background: #A0A0A0; color: #ffffff; padding:4px; border:#f0e0e0 1px solid;\n",
       "            font-weight: normal; font-family: monospace; font-size: 100%;\n",
       "        }\n",
       "        .Table td{\n",
       "            padding:4px; border:#f0e0e0 1px solid; font-size:100%;\n",
       "        }\n",
       "        .Table tr:nth-child(odd){\n",
       "            background: #ffffff;\n",
       "            color: #000000;\n",
       "        }\n",
       "        .Table tr:nth-child(even){\n",
       "            background: #f3f1ff;\n",
       "            color: #000000;\n",
       "        }\n",
       "        /* Tooltip container */\n",
       "        .djtooltip {\n",
       "        }\n",
       "        /* Tooltip text */\n",
       "        .djtooltip .djtooltiptext {\n",
       "            visibility: hidden;\n",
       "            width: 120px;\n",
       "            background-color: black;\n",
       "            color: #fff;\n",
       "            text-align: center;\n",
       "            padding: 5px 0;\n",
       "            border-radius: 6px;\n",
       "            /* Position the tooltip text - see examples below! */\n",
       "            position: absolute;\n",
       "            z-index: 1;\n",
       "        }\n",
       "        #primary {\n",
       "            font-weight: bold;\n",
       "            color: black;\n",
       "        }\n",
       "        #nonprimary {\n",
       "            font-weight: normal;\n",
       "            color: white;\n",
       "        }\n",
       "\n",
       "        /* Show the tooltip text when you mouse over the tooltip container */\n",
       "        .djtooltip:hover .djtooltiptext {\n",
       "            visibility: visible;\n",
       "        }\n",
       "    </style>\n",
       "    \n",
       "    <b></b>\n",
       "        <div style=\"max-height:1000px;max-width:1500px;overflow:auto;\">\n",
       "        <table border=\"1\" class=\"Table\">\n",
       "            <thead> <tr style=\"text-align: right;\"> <th> <div class=\"djtooltip\">\n",
       "                            <p id=\"primary\">fileset_id</p>\n",
       "                            <span class=\"djtooltiptext\">identifier for a fileset - computed from the aggregated checksum of all files in the fileset</span>\n",
       "                        </div></th><th><div class=\"djtooltip\">\n",
       "                            <p id=\"nonprimary\">fileset_root</p>\n",
       "                            <span class=\"djtooltiptext\">the commonpath of all files in the fileset</span>\n",
       "                        </div></th><th><div class=\"djtooltip\">\n",
       "                            <p id=\"nonprimary\">fileset_size</p>\n",
       "                            <span class=\"djtooltiptext\">size of the entire fileset in bytes</span>\n",
       "                        </div></th><th><div class=\"djtooltip\">\n",
       "                            <p id=\"nonprimary\">file_count</p>\n",
       "                            <span class=\"djtooltiptext\"></span>\n",
       "                        </div></th><th><div class=\"djtooltip\">\n",
       "                            <p id=\"nonprimary\">fileset_creation_time</p>\n",
       "                            <span class=\"djtooltiptext\">creation time (UTC) of the fileset</span>\n",
       "                        </div> </th> </tr> </thead>\n",
       "            <tbody> <tr> <td>6291268b-0b70-1077-465d-40fb0ab1ccb3</td>\n",
       "<td>report_figures</td>\n",
       "<td>636211</td>\n",
       "<td>10</td>\n",
       "<td>2024-07-17 00:23:16</td></tr><tr><td>b6507659-f067-f608-e7e4-4708e9c78f5c</td>\n",
       "<td>.</td>\n",
       "<td>8001582</td>\n",
       "<td>12</td>\n",
       "<td>2024-07-17 00:23:17</td></tr><tr><td>ef052cdd-7714-e39a-0d1c-662eb6ebe9ea</td>\n",
       "<td>report_figures</td>\n",
       "<td>704886</td>\n",
       "<td>11</td>\n",
       "<td>2024-07-17 00:22:58</td> </tr> </tbody>\n",
       "        </table>\n",
       "        \n",
       "        <p>Total: 3</p></div>\n",
       "        "
      ],
      "text/plain": [
       "*fileset_id    fileset_root   fileset_size   file_count     fileset_creati\n",
       "+------------+ +------------+ +------------+ +------------+ +------------+\n",
       "6291268b-0b70- report_figures 636211         10             2024-07-17 00:\n",
       "b6507659-f067- .              8001582        12             2024-07-17 00:\n",
       "ef052cdd-7714- report_figures 704886         11             2024-07-17 00:\n",
       " (Total: 3)"
      ]
     },
     "execution_count": 32,
     "metadata": {},
     "output_type": "execute_result"
    }
   ],
   "source": [
    "schema.fileset['file-store']"
   ]
  },
  {
   "cell_type": "code",
   "execution_count": 33,
   "metadata": {
    "pycharm": {
     "name": "#%%\n"
    }
   },
   "outputs": [
    {
     "data": {
      "text/html": [
       "\n",
       "    \n",
       "    <style type=\"text/css\">\n",
       "        .Table{\n",
       "            border-collapse:collapse;\n",
       "        }\n",
       "        .Table th{\n",
       "            background: #A0A0A0; color: #ffffff; padding:4px; border:#f0e0e0 1px solid;\n",
       "            font-weight: normal; font-family: monospace; font-size: 100%;\n",
       "        }\n",
       "        .Table td{\n",
       "            padding:4px; border:#f0e0e0 1px solid; font-size:100%;\n",
       "        }\n",
       "        .Table tr:nth-child(odd){\n",
       "            background: #ffffff;\n",
       "            color: #000000;\n",
       "        }\n",
       "        .Table tr:nth-child(even){\n",
       "            background: #f3f1ff;\n",
       "            color: #000000;\n",
       "        }\n",
       "        /* Tooltip container */\n",
       "        .djtooltip {\n",
       "        }\n",
       "        /* Tooltip text */\n",
       "        .djtooltip .djtooltiptext {\n",
       "            visibility: hidden;\n",
       "            width: 120px;\n",
       "            background-color: black;\n",
       "            color: #fff;\n",
       "            text-align: center;\n",
       "            padding: 5px 0;\n",
       "            border-radius: 6px;\n",
       "            /* Position the tooltip text - see examples below! */\n",
       "            position: absolute;\n",
       "            z-index: 1;\n",
       "        }\n",
       "        #primary {\n",
       "            font-weight: bold;\n",
       "            color: black;\n",
       "        }\n",
       "        #nonprimary {\n",
       "            font-weight: normal;\n",
       "            color: white;\n",
       "        }\n",
       "\n",
       "        /* Show the tooltip text when you mouse over the tooltip container */\n",
       "        .djtooltip:hover .djtooltiptext {\n",
       "            visibility: visible;\n",
       "        }\n",
       "    </style>\n",
       "    \n",
       "    <b></b>\n",
       "        <div style=\"max-height:1000px;max-width:1500px;overflow:auto;\">\n",
       "        <table border=\"1\" class=\"Table\">\n",
       "            <thead> <tr style=\"text-align: right;\"> <th> <div class=\"djtooltip\">\n",
       "                            <p id=\"primary\">fileset_id</p>\n",
       "                            <span class=\"djtooltiptext\">identifier for a fileset - computed from the aggregated checksum of all files in the fileset</span>\n",
       "                        </div></th><th><div class=\"djtooltip\">\n",
       "                            <p id=\"primary\">file_hash</p>\n",
       "                            <span class=\"djtooltiptext\">hash of relative filepath (filepath)</span>\n",
       "                        </div></th><th><div class=\"djtooltip\">\n",
       "                            <p id=\"nonprimary\">filepath</p>\n",
       "                            <span class=\"djtooltiptext\">filepath relative to the \"location\" of the store</span>\n",
       "                        </div></th><th><div class=\"djtooltip\">\n",
       "                            <p id=\"nonprimary\">file</p>\n",
       "                            <span class=\"djtooltiptext\"></span>\n",
       "                        </div> </th> </tr> </thead>\n",
       "            <tbody> <tr> <td>6291268b-0b70-1077-465d-40fb0ab1ccb3</td>\n",
       "<td>0549ed90-1bd8-8ed8-8ce6-17062ab756e0</td>\n",
       "<td>report_figures/m37_m37c2000r650_psychometric_curve.png</td>\n",
       "<td>=BLOB=</td></tr><tr><td>6291268b-0b70-1077-465d-40fb0ab1ccb3</td>\n",
       "<td>4797c923-e2ce-c7d9-797e-fdb34e93a8f2</td>\n",
       "<td>report_figures/m37_m37c2000r397_psychometric_curve.png</td>\n",
       "<td>=BLOB=</td></tr><tr><td>6291268b-0b70-1077-465d-40fb0ab1ccb3</td>\n",
       "<td>4c9bcfc2-914b-f301-d3e6-a428c86411d9</td>\n",
       "<td>report_figures/m37_m37c2000r396_psychometric_curve.png</td>\n",
       "<td>=BLOB=</td></tr><tr><td>6291268b-0b70-1077-465d-40fb0ab1ccb3</td>\n",
       "<td>789aa3ef-18a7-75a7-f735-89dfba8c1688</td>\n",
       "<td>report_figures/m37_m37c2000r539_psychometric_curve.png</td>\n",
       "<td>=BLOB=</td></tr><tr><td>6291268b-0b70-1077-465d-40fb0ab1ccb3</td>\n",
       "<td>7a31742e-db74-4325-732f-db762d351fdf</td>\n",
       "<td>report_figures/m37_m37c2000r649_psychometric_curve.png</td>\n",
       "<td>=BLOB=</td></tr><tr><td>6291268b-0b70-1077-465d-40fb0ab1ccb3</td>\n",
       "<td>7b7a16db-a81b-d606-1adb-322adadc403e</td>\n",
       "<td>report_figures/m37_m37c2000r538_psychometric_curve.png</td>\n",
       "<td>=BLOB=</td></tr><tr><td>6291268b-0b70-1077-465d-40fb0ab1ccb3</td>\n",
       "<td>9e86bdfa-91db-3278-288c-05c6442135f6</td>\n",
       "<td>report_figures/m37_m37c2000r535_psychometric_curve.png</td>\n",
       "<td>=BLOB=</td></tr><tr><td>6291268b-0b70-1077-465d-40fb0ab1ccb3</td>\n",
       "<td>9eec6c50-2061-5261-d04b-27223ce85da5</td>\n",
       "<td>report_figures/m37_m37c2000r506_psychometric_curve.png</td>\n",
       "<td>=BLOB=</td></tr><tr><td>6291268b-0b70-1077-465d-40fb0ab1ccb3</td>\n",
       "<td>a8409d57-729c-ef9b-1558-882890c448d9</td>\n",
       "<td>report_figures/m37_m37c2000r503_psychometric_curve.png</td>\n",
       "<td>=BLOB=</td></tr><tr><td>6291268b-0b70-1077-465d-40fb0ab1ccb3</td>\n",
       "<td>e8fba290-bd1a-b422-fed1-12ae0dd0357e</td>\n",
       "<td>report_figures/m37_m37c2000r498_psychometric_curve.png</td>\n",
       "<td>=BLOB=</td></tr><tr><td>b6507659-f067-f608-e7e4-4708e9c78f5c</td>\n",
       "<td>0549ed90-1bd8-8ed8-8ce6-17062ab756e0</td>\n",
       "<td>report_figures/m37_m37c2000r650_psychometric_curve.png</td>\n",
       "<td>=BLOB=</td></tr><tr><td>b6507659-f067-f608-e7e4-4708e9c78f5c</td>\n",
       "<td>4797c923-e2ce-c7d9-797e-fdb34e93a8f2</td>\n",
       "<td>report_figures/m37_m37c2000r397_psychometric_curve.png</td>\n",
       "<td>=BLOB=</td> </tr> </tbody>\n",
       "        </table>\n",
       "        <p>...</p>\n",
       "        <p>Total: 33</p></div>\n",
       "        "
      ],
      "text/plain": [
       "*fileset_id    *file_hash     filepath       file      \n",
       "+------------+ +------------+ +------------+ +--------+\n",
       "6291268b-0b70- 0549ed90-1bd8- report_figures =BLOB=    \n",
       "6291268b-0b70- 4797c923-e2ce- report_figures =BLOB=    \n",
       "6291268b-0b70- 4c9bcfc2-914b- report_figures =BLOB=    \n",
       "6291268b-0b70- 789aa3ef-18a7- report_figures =BLOB=    \n",
       "6291268b-0b70- 7a31742e-db74- report_figures =BLOB=    \n",
       "6291268b-0b70- 7b7a16db-a81b- report_figures =BLOB=    \n",
       "6291268b-0b70- 9e86bdfa-91db- report_figures =BLOB=    \n",
       "6291268b-0b70- 9eec6c50-2061- report_figures =BLOB=    \n",
       "6291268b-0b70- a8409d57-729c- report_figures =BLOB=    \n",
       "6291268b-0b70- e8fba290-bd1a- report_figures =BLOB=    \n",
       "b6507659-f067- 0549ed90-1bd8- report_figures =BLOB=    \n",
       "b6507659-f067- 4797c923-e2ce- report_figures =BLOB=    \n",
       "   ...\n",
       " (Total: 33)"
      ]
     },
     "execution_count": 33,
     "metadata": {},
     "output_type": "execute_result"
    }
   ],
   "source": [
    "schema.fileset['file-store'].File()"
   ]
  },
  {
   "cell_type": "code",
   "execution_count": 34,
   "metadata": {
    "pycharm": {
     "name": "#%%\n"
    }
   },
   "outputs": [
    {
     "data": {
      "text/html": [
       "\n",
       "    \n",
       "    <style type=\"text/css\">\n",
       "        .Table{\n",
       "            border-collapse:collapse;\n",
       "        }\n",
       "        .Table th{\n",
       "            background: #A0A0A0; color: #ffffff; padding:4px; border:#f0e0e0 1px solid;\n",
       "            font-weight: normal; font-family: monospace; font-size: 100%;\n",
       "        }\n",
       "        .Table td{\n",
       "            padding:4px; border:#f0e0e0 1px solid; font-size:100%;\n",
       "        }\n",
       "        .Table tr:nth-child(odd){\n",
       "            background: #ffffff;\n",
       "            color: #000000;\n",
       "        }\n",
       "        .Table tr:nth-child(even){\n",
       "            background: #f3f1ff;\n",
       "            color: #000000;\n",
       "        }\n",
       "        /* Tooltip container */\n",
       "        .djtooltip {\n",
       "        }\n",
       "        /* Tooltip text */\n",
       "        .djtooltip .djtooltiptext {\n",
       "            visibility: hidden;\n",
       "            width: 120px;\n",
       "            background-color: black;\n",
       "            color: #fff;\n",
       "            text-align: center;\n",
       "            padding: 5px 0;\n",
       "            border-radius: 6px;\n",
       "            /* Position the tooltip text - see examples below! */\n",
       "            position: absolute;\n",
       "            z-index: 1;\n",
       "        }\n",
       "        #primary {\n",
       "            font-weight: bold;\n",
       "            color: black;\n",
       "        }\n",
       "        #nonprimary {\n",
       "            font-weight: normal;\n",
       "            color: white;\n",
       "        }\n",
       "\n",
       "        /* Show the tooltip text when you mouse over the tooltip container */\n",
       "        .djtooltip:hover .djtooltiptext {\n",
       "            visibility: visible;\n",
       "        }\n",
       "    </style>\n",
       "    \n",
       "    <b>external storage tracking</b>\n",
       "        <div style=\"max-height:1000px;max-width:1500px;overflow:auto;\">\n",
       "        <table border=\"1\" class=\"Table\">\n",
       "            <thead> <tr style=\"text-align: right;\"> <th> <div class=\"djtooltip\">\n",
       "                            <p id=\"primary\">hash</p>\n",
       "                            <span class=\"djtooltiptext\">hash of contents (blob), of filename + contents (attach), or relative filepath (filepath)</span>\n",
       "                        </div></th><th><div class=\"djtooltip\">\n",
       "                            <p id=\"nonprimary\">size</p>\n",
       "                            <span class=\"djtooltiptext\">size of object in bytes</span>\n",
       "                        </div></th><th><div class=\"djtooltip\">\n",
       "                            <p id=\"nonprimary\">attachment_name</p>\n",
       "                            <span class=\"djtooltiptext\">the filename of an attachment</span>\n",
       "                        </div></th><th><div class=\"djtooltip\">\n",
       "                            <p id=\"nonprimary\">filepath</p>\n",
       "                            <span class=\"djtooltiptext\">relative filepath or attachment filename</span>\n",
       "                        </div></th><th><div class=\"djtooltip\">\n",
       "                            <p id=\"nonprimary\">contents_hash</p>\n",
       "                            <span class=\"djtooltiptext\">used for the filepath datatype</span>\n",
       "                        </div></th><th><div class=\"djtooltip\">\n",
       "                            <p id=\"nonprimary\">timestamp</p>\n",
       "                            <span class=\"djtooltiptext\">automatic timestamp</span>\n",
       "                        </div> </th> </tr> </thead>\n",
       "            <tbody> <tr> <td>0549ed90-1bd8-8ed8-8ce6-17062ab756e0</td>\n",
       "<td>66674</td>\n",
       "<td>None</td>\n",
       "<td>report_figures/m37_m37c2000r650_psychometric_curve.png</td>\n",
       "<td>f79642d0-baa9-b410-811f-990563290413</td>\n",
       "<td>2024-07-17 00:22:58</td></tr><tr><td>4797c923-e2ce-c7d9-797e-fdb34e93a8f2</td>\n",
       "<td>69809</td>\n",
       "<td>None</td>\n",
       "<td>report_figures/m37_m37c2000r397_psychometric_curve.png</td>\n",
       "<td>60684f90-512e-2266-f1b1-3a9988fb625c</td>\n",
       "<td>2024-07-17 00:22:58</td></tr><tr><td>4c9bcfc2-914b-f301-d3e6-a428c86411d9</td>\n",
       "<td>85124</td>\n",
       "<td>None</td>\n",
       "<td>report_figures/m37_m37c2000r396_psychometric_curve.png</td>\n",
       "<td>7cceba60-a79e-213d-bb26-a2364bfedf55</td>\n",
       "<td>2024-07-17 00:22:58</td></tr><tr><td>6169fa12-4bea-6de4-0d4e-9a04bbb20929</td>\n",
       "<td>68675</td>\n",
       "<td>None</td>\n",
       "<td>report_figures/m37_m37c212r7_psychometric_curve.png</td>\n",
       "<td>aad2ee9f-8fbd-87df-cc7d-2a74302fbbf4</td>\n",
       "<td>2024-07-17 00:22:58</td></tr><tr><td>789aa3ef-18a7-75a7-f735-89dfba8c1688</td>\n",
       "<td>68996</td>\n",
       "<td>None</td>\n",
       "<td>report_figures/m37_m37c2000r539_psychometric_curve.png</td>\n",
       "<td>25ae864c-1c2c-5f0c-1a9a-7cfaebe9097c</td>\n",
       "<td>2024-07-17 00:22:58</td></tr><tr><td>7a31742e-db74-4325-732f-db762d351fdf</td>\n",
       "<td>68334</td>\n",
       "<td>None</td>\n",
       "<td>report_figures/m37_m37c2000r649_psychometric_curve.png</td>\n",
       "<td>10a7a0a7-3e3a-6656-ad2b-bc177107e4be</td>\n",
       "<td>2024-07-17 00:22:58</td></tr><tr><td>7b7a16db-a81b-d606-1adb-322adadc403e</td>\n",
       "<td>43696</td>\n",
       "<td>None</td>\n",
       "<td>report_figures/m37_m37c2000r538_psychometric_curve.png</td>\n",
       "<td>2963bed7-1033-350d-44a4-98ecb9c55e73</td>\n",
       "<td>2024-07-17 00:22:58</td></tr><tr><td>9e86bdfa-91db-3278-288c-05c6442135f6</td>\n",
       "<td>42620</td>\n",
       "<td>None</td>\n",
       "<td>report_figures/m37_m37c2000r535_psychometric_curve.png</td>\n",
       "<td>ddd08a40-a152-8262-4a96-c75b4d448300</td>\n",
       "<td>2024-07-17 00:22:58</td></tr><tr><td>9eec6c50-2061-5261-d04b-27223ce85da5</td>\n",
       "<td>67442</td>\n",
       "<td>None</td>\n",
       "<td>report_figures/m37_m37c2000r506_psychometric_curve.png</td>\n",
       "<td>e0c817b1-45cd-47f6-b431-a568e648730c</td>\n",
       "<td>2024-07-17 00:22:58</td></tr><tr><td>a8409d57-729c-ef9b-1558-882890c448d9</td>\n",
       "<td>57842</td>\n",
       "<td>None</td>\n",
       "<td>report_figures/m37_m37c2000r503_psychometric_curve.png</td>\n",
       "<td>6daebf37-867a-db5b-288e-f70b28e1a60e</td>\n",
       "<td>2024-07-17 00:22:58</td></tr><tr><td>e740023e-7265-fe5e-d27a-39a541325a7c</td>\n",
       "<td>7296696</td>\n",
       "<td>None</td>\n",
       "<td>bistab/bistab_0001.h5</td>\n",
       "<td>22c9fad2-f9af-dd77-33de-a6a698762b64</td>\n",
       "<td>2024-07-17 00:23:16</td></tr><tr><td>e8fba290-bd1a-b422-fed1-12ae0dd0357e</td>\n",
       "<td>65674</td>\n",
       "<td>None</td>\n",
       "<td>report_figures/m37_m37c2000r498_psychometric_curve.png</td>\n",
       "<td>c8b666c0-bc37-5e21-0c58-50140a66e25e</td>\n",
       "<td>2024-07-17 00:22:58</td> </tr> </tbody>\n",
       "        </table>\n",
       "        \n",
       "        <p>Total: 12</p></div>\n",
       "        "
      ],
      "text/plain": [
       "*hash          size        attachment_nam filepath       contents_hash  timestamp     \n",
       "+------------+ +---------+ +------------+ +------------+ +------------+ +------------+\n",
       "0549ed90-1bd8- 66674       None           report_figures f79642d0-baa9- 2024-07-17 00:\n",
       "4797c923-e2ce- 69809       None           report_figures 60684f90-512e- 2024-07-17 00:\n",
       "4c9bcfc2-914b- 85124       None           report_figures 7cceba60-a79e- 2024-07-17 00:\n",
       "6169fa12-4bea- 68675       None           report_figures aad2ee9f-8fbd- 2024-07-17 00:\n",
       "789aa3ef-18a7- 68996       None           report_figures 25ae864c-1c2c- 2024-07-17 00:\n",
       "7a31742e-db74- 68334       None           report_figures 10a7a0a7-3e3a- 2024-07-17 00:\n",
       "7b7a16db-a81b- 43696       None           report_figures 2963bed7-1033- 2024-07-17 00:\n",
       "9e86bdfa-91db- 42620       None           report_figures ddd08a40-a152- 2024-07-17 00:\n",
       "9eec6c50-2061- 67442       None           report_figures e0c817b1-45cd- 2024-07-17 00:\n",
       "a8409d57-729c- 57842       None           report_figures 6daebf37-867a- 2024-07-17 00:\n",
       "e740023e-7265- 7296696     None           bistab/bistab_ 22c9fad2-f9af- 2024-07-17 00:\n",
       "e8fba290-bd1a- 65674       None           report_figures c8b666c0-bc37- 2024-07-17 00:\n",
       " (Total: 12)"
      ]
     },
     "execution_count": 34,
     "metadata": {},
     "output_type": "execute_result"
    }
   ],
   "source": [
    "schema.external['file-store']"
   ]
  },
  {
   "cell_type": "markdown",
   "metadata": {
    "pycharm": {
     "name": "#%% md\n"
    }
   },
   "source": [
    "#### No duplication of files on external store (thanks to the feature of \"attach\" type)"
   ]
  },
  {
   "cell_type": "code",
   "execution_count": 37,
   "metadata": {
    "pycharm": {
     "name": "#%%\n"
    }
   },
   "outputs": [
    {
     "data": {
      "text/plain": [
       "['C:\\\\Users\\\\thinh\\\\Documents\\\\SciOps-data\\\\datajoint-python\\\\outbox\\\\report_figures\\\\m37_m37c2000r396_psychometric_curve.png',\n",
       " 'C:\\\\Users\\\\thinh\\\\Documents\\\\SciOps-data\\\\datajoint-python\\\\outbox\\\\report_figures\\\\m37_m37c2000r397_psychometric_curve.png',\n",
       " 'C:\\\\Users\\\\thinh\\\\Documents\\\\SciOps-data\\\\datajoint-python\\\\outbox\\\\report_figures\\\\m37_m37c2000r498_psychometric_curve.png',\n",
       " 'C:\\\\Users\\\\thinh\\\\Documents\\\\SciOps-data\\\\datajoint-python\\\\outbox\\\\report_figures\\\\m37_m37c2000r503_psychometric_curve.png',\n",
       " 'C:\\\\Users\\\\thinh\\\\Documents\\\\SciOps-data\\\\datajoint-python\\\\outbox\\\\report_figures\\\\m37_m37c2000r506_psychometric_curve.png',\n",
       " 'C:\\\\Users\\\\thinh\\\\Documents\\\\SciOps-data\\\\datajoint-python\\\\outbox\\\\report_figures\\\\m37_m37c2000r535_psychometric_curve.png',\n",
       " 'C:\\\\Users\\\\thinh\\\\Documents\\\\SciOps-data\\\\datajoint-python\\\\outbox\\\\report_figures\\\\m37_m37c2000r538_psychometric_curve.png',\n",
       " 'C:\\\\Users\\\\thinh\\\\Documents\\\\SciOps-data\\\\datajoint-python\\\\outbox\\\\report_figures\\\\m37_m37c2000r539_psychometric_curve.png',\n",
       " 'C:\\\\Users\\\\thinh\\\\Documents\\\\SciOps-data\\\\datajoint-python\\\\outbox\\\\report_figures\\\\m37_m37c2000r649_psychometric_curve.png',\n",
       " 'C:\\\\Users\\\\thinh\\\\Documents\\\\SciOps-data\\\\datajoint-python\\\\outbox\\\\report_figures\\\\m37_m37c2000r650_psychometric_curve.png']"
      ]
     },
     "execution_count": 37,
     "metadata": {},
     "output_type": "execute_result"
    }
   ],
   "source": [
    "(Session & \"session_id = 2\").fetch1('session_fileset')"
   ]
  },
  {
   "cell_type": "markdown",
   "metadata": {},
   "source": [
    "#### Drop everything and clean up"
   ]
  },
  {
   "cell_type": "code",
   "execution_count": 38,
   "metadata": {},
   "outputs": [
    {
     "name": "stderr",
     "output_type": "stream",
     "text": [
      "[2024-07-16 19:24:22,841][INFO]: Deleting 4 rows from `test_fileset`.`session`\n"
     ]
    },
    {
     "name": "stdout",
     "output_type": "stream",
     "text": [
      "Commit deletes? [yes, No]: yes\n"
     ]
    },
    {
     "name": "stderr",
     "output_type": "stream",
     "text": [
      "[2024-07-16 19:24:24,511][INFO]: Deletes committed.\n"
     ]
    },
    {
     "data": {
      "text/plain": [
       "4"
      ]
     },
     "execution_count": 38,
     "metadata": {},
     "output_type": "execute_result"
    }
   ],
   "source": [
    "Session.delete()"
   ]
  },
  {
   "cell_type": "code",
   "execution_count": 42,
   "metadata": {},
   "outputs": [
    {
     "data": {
      "text/html": [
       "\n",
       "    \n",
       "    <style type=\"text/css\">\n",
       "        .Table{\n",
       "            border-collapse:collapse;\n",
       "        }\n",
       "        .Table th{\n",
       "            background: #A0A0A0; color: #ffffff; padding:4px; border:#f0e0e0 1px solid;\n",
       "            font-weight: normal; font-family: monospace; font-size: 100%;\n",
       "        }\n",
       "        .Table td{\n",
       "            padding:4px; border:#f0e0e0 1px solid; font-size:100%;\n",
       "        }\n",
       "        .Table tr:nth-child(odd){\n",
       "            background: #ffffff;\n",
       "            color: #000000;\n",
       "        }\n",
       "        .Table tr:nth-child(even){\n",
       "            background: #f3f1ff;\n",
       "            color: #000000;\n",
       "        }\n",
       "        /* Tooltip container */\n",
       "        .djtooltip {\n",
       "        }\n",
       "        /* Tooltip text */\n",
       "        .djtooltip .djtooltiptext {\n",
       "            visibility: hidden;\n",
       "            width: 120px;\n",
       "            background-color: black;\n",
       "            color: #fff;\n",
       "            text-align: center;\n",
       "            padding: 5px 0;\n",
       "            border-radius: 6px;\n",
       "            /* Position the tooltip text - see examples below! */\n",
       "            position: absolute;\n",
       "            z-index: 1;\n",
       "        }\n",
       "        #primary {\n",
       "            font-weight: bold;\n",
       "            color: black;\n",
       "        }\n",
       "        #nonprimary {\n",
       "            font-weight: normal;\n",
       "            color: white;\n",
       "        }\n",
       "\n",
       "        /* Show the tooltip text when you mouse over the tooltip container */\n",
       "        .djtooltip:hover .djtooltiptext {\n",
       "            visibility: visible;\n",
       "        }\n",
       "    </style>\n",
       "    \n",
       "    <b></b>\n",
       "        <div style=\"max-height:1000px;max-width:1500px;overflow:auto;\">\n",
       "        <table border=\"1\" class=\"Table\">\n",
       "            <thead> <tr style=\"text-align: right;\"> <th> <div class=\"djtooltip\">\n",
       "                            <p id=\"primary\">fileset_id</p>\n",
       "                            <span class=\"djtooltiptext\">identifier for a fileset - computed from the aggregated checksum of all files in the fileset</span>\n",
       "                        </div></th><th><div class=\"djtooltip\">\n",
       "                            <p id=\"nonprimary\">fileset_root</p>\n",
       "                            <span class=\"djtooltiptext\">the commonpath of all files in the fileset</span>\n",
       "                        </div></th><th><div class=\"djtooltip\">\n",
       "                            <p id=\"nonprimary\">fileset_size</p>\n",
       "                            <span class=\"djtooltiptext\">size of the entire fileset in bytes</span>\n",
       "                        </div></th><th><div class=\"djtooltip\">\n",
       "                            <p id=\"nonprimary\">file_count</p>\n",
       "                            <span class=\"djtooltiptext\"></span>\n",
       "                        </div></th><th><div class=\"djtooltip\">\n",
       "                            <p id=\"nonprimary\">fileset_creation_time</p>\n",
       "                            <span class=\"djtooltiptext\">creation time (UTC) of the fileset</span>\n",
       "                        </div> </th> </tr> </thead>\n",
       "            <tbody> <tr> <td>6291268b-0b70-1077-465d-40fb0ab1ccb3</td>\n",
       "<td>report_figures</td>\n",
       "<td>636211</td>\n",
       "<td>10</td>\n",
       "<td>2024-07-17 00:23:16</td></tr><tr><td>b6507659-f067-f608-e7e4-4708e9c78f5c</td>\n",
       "<td>.</td>\n",
       "<td>8001582</td>\n",
       "<td>12</td>\n",
       "<td>2024-07-17 00:23:17</td></tr><tr><td>ef052cdd-7714-e39a-0d1c-662eb6ebe9ea</td>\n",
       "<td>report_figures</td>\n",
       "<td>704886</td>\n",
       "<td>11</td>\n",
       "<td>2024-07-17 00:22:58</td> </tr> </tbody>\n",
       "        </table>\n",
       "        \n",
       "        <p>Total: 3</p></div>\n",
       "        "
      ],
      "text/plain": [
       "*fileset_id    fileset_root   fileset_size   file_count     fileset_creati\n",
       "+------------+ +------------+ +------------+ +------------+ +------------+\n",
       "6291268b-0b70- report_figures 636211         10             2024-07-17 00:\n",
       "b6507659-f067- .              8001582        12             2024-07-17 00:\n",
       "ef052cdd-7714- report_figures 704886         11             2024-07-17 00:\n",
       " (Total: 3)"
      ]
     },
     "execution_count": 42,
     "metadata": {},
     "output_type": "execute_result"
    }
   ],
   "source": [
    "schema.fileset['file-store'].unused()"
   ]
  },
  {
   "cell_type": "code",
   "execution_count": 43,
   "metadata": {},
   "outputs": [],
   "source": [
    "schema.fileset['file-store'].delete()"
   ]
  },
  {
   "cell_type": "code",
   "execution_count": 44,
   "metadata": {},
   "outputs": [
    {
     "data": {
      "text/html": [
       "\n",
       "    \n",
       "    <style type=\"text/css\">\n",
       "        .Table{\n",
       "            border-collapse:collapse;\n",
       "        }\n",
       "        .Table th{\n",
       "            background: #A0A0A0; color: #ffffff; padding:4px; border:#f0e0e0 1px solid;\n",
       "            font-weight: normal; font-family: monospace; font-size: 100%;\n",
       "        }\n",
       "        .Table td{\n",
       "            padding:4px; border:#f0e0e0 1px solid; font-size:100%;\n",
       "        }\n",
       "        .Table tr:nth-child(odd){\n",
       "            background: #ffffff;\n",
       "            color: #000000;\n",
       "        }\n",
       "        .Table tr:nth-child(even){\n",
       "            background: #f3f1ff;\n",
       "            color: #000000;\n",
       "        }\n",
       "        /* Tooltip container */\n",
       "        .djtooltip {\n",
       "        }\n",
       "        /* Tooltip text */\n",
       "        .djtooltip .djtooltiptext {\n",
       "            visibility: hidden;\n",
       "            width: 120px;\n",
       "            background-color: black;\n",
       "            color: #fff;\n",
       "            text-align: center;\n",
       "            padding: 5px 0;\n",
       "            border-radius: 6px;\n",
       "            /* Position the tooltip text - see examples below! */\n",
       "            position: absolute;\n",
       "            z-index: 1;\n",
       "        }\n",
       "        #primary {\n",
       "            font-weight: bold;\n",
       "            color: black;\n",
       "        }\n",
       "        #nonprimary {\n",
       "            font-weight: normal;\n",
       "            color: white;\n",
       "        }\n",
       "\n",
       "        /* Show the tooltip text when you mouse over the tooltip container */\n",
       "        .djtooltip:hover .djtooltiptext {\n",
       "            visibility: visible;\n",
       "        }\n",
       "    </style>\n",
       "    \n",
       "    <b>external storage tracking</b>\n",
       "        <div style=\"max-height:1000px;max-width:1500px;overflow:auto;\">\n",
       "        <table border=\"1\" class=\"Table\">\n",
       "            <thead> <tr style=\"text-align: right;\"> <th> <div class=\"djtooltip\">\n",
       "                            <p id=\"primary\">hash</p>\n",
       "                            <span class=\"djtooltiptext\">hash of contents (blob), of filename + contents (attach), or relative filepath (filepath)</span>\n",
       "                        </div></th><th><div class=\"djtooltip\">\n",
       "                            <p id=\"nonprimary\">size</p>\n",
       "                            <span class=\"djtooltiptext\">size of object in bytes</span>\n",
       "                        </div></th><th><div class=\"djtooltip\">\n",
       "                            <p id=\"nonprimary\">attachment_name</p>\n",
       "                            <span class=\"djtooltiptext\">the filename of an attachment</span>\n",
       "                        </div></th><th><div class=\"djtooltip\">\n",
       "                            <p id=\"nonprimary\">filepath</p>\n",
       "                            <span class=\"djtooltiptext\">relative filepath or attachment filename</span>\n",
       "                        </div></th><th><div class=\"djtooltip\">\n",
       "                            <p id=\"nonprimary\">contents_hash</p>\n",
       "                            <span class=\"djtooltiptext\">used for the filepath datatype</span>\n",
       "                        </div></th><th><div class=\"djtooltip\">\n",
       "                            <p id=\"nonprimary\">timestamp</p>\n",
       "                            <span class=\"djtooltiptext\">automatic timestamp</span>\n",
       "                        </div> </th> </tr> </thead>\n",
       "            <tbody> <tr> <td>0549ed90-1bd8-8ed8-8ce6-17062ab756e0</td>\n",
       "<td>66674</td>\n",
       "<td>None</td>\n",
       "<td>report_figures/m37_m37c2000r650_psychometric_curve.png</td>\n",
       "<td>f79642d0-baa9-b410-811f-990563290413</td>\n",
       "<td>2024-07-17 00:22:58</td></tr><tr><td>4797c923-e2ce-c7d9-797e-fdb34e93a8f2</td>\n",
       "<td>69809</td>\n",
       "<td>None</td>\n",
       "<td>report_figures/m37_m37c2000r397_psychometric_curve.png</td>\n",
       "<td>60684f90-512e-2266-f1b1-3a9988fb625c</td>\n",
       "<td>2024-07-17 00:22:58</td></tr><tr><td>4c9bcfc2-914b-f301-d3e6-a428c86411d9</td>\n",
       "<td>85124</td>\n",
       "<td>None</td>\n",
       "<td>report_figures/m37_m37c2000r396_psychometric_curve.png</td>\n",
       "<td>7cceba60-a79e-213d-bb26-a2364bfedf55</td>\n",
       "<td>2024-07-17 00:22:58</td></tr><tr><td>6169fa12-4bea-6de4-0d4e-9a04bbb20929</td>\n",
       "<td>68675</td>\n",
       "<td>None</td>\n",
       "<td>report_figures/m37_m37c212r7_psychometric_curve.png</td>\n",
       "<td>aad2ee9f-8fbd-87df-cc7d-2a74302fbbf4</td>\n",
       "<td>2024-07-17 00:22:58</td></tr><tr><td>789aa3ef-18a7-75a7-f735-89dfba8c1688</td>\n",
       "<td>68996</td>\n",
       "<td>None</td>\n",
       "<td>report_figures/m37_m37c2000r539_psychometric_curve.png</td>\n",
       "<td>25ae864c-1c2c-5f0c-1a9a-7cfaebe9097c</td>\n",
       "<td>2024-07-17 00:22:58</td></tr><tr><td>7a31742e-db74-4325-732f-db762d351fdf</td>\n",
       "<td>68334</td>\n",
       "<td>None</td>\n",
       "<td>report_figures/m37_m37c2000r649_psychometric_curve.png</td>\n",
       "<td>10a7a0a7-3e3a-6656-ad2b-bc177107e4be</td>\n",
       "<td>2024-07-17 00:22:58</td></tr><tr><td>7b7a16db-a81b-d606-1adb-322adadc403e</td>\n",
       "<td>43696</td>\n",
       "<td>None</td>\n",
       "<td>report_figures/m37_m37c2000r538_psychometric_curve.png</td>\n",
       "<td>2963bed7-1033-350d-44a4-98ecb9c55e73</td>\n",
       "<td>2024-07-17 00:22:58</td></tr><tr><td>9e86bdfa-91db-3278-288c-05c6442135f6</td>\n",
       "<td>42620</td>\n",
       "<td>None</td>\n",
       "<td>report_figures/m37_m37c2000r535_psychometric_curve.png</td>\n",
       "<td>ddd08a40-a152-8262-4a96-c75b4d448300</td>\n",
       "<td>2024-07-17 00:22:58</td></tr><tr><td>9eec6c50-2061-5261-d04b-27223ce85da5</td>\n",
       "<td>67442</td>\n",
       "<td>None</td>\n",
       "<td>report_figures/m37_m37c2000r506_psychometric_curve.png</td>\n",
       "<td>e0c817b1-45cd-47f6-b431-a568e648730c</td>\n",
       "<td>2024-07-17 00:22:58</td></tr><tr><td>a8409d57-729c-ef9b-1558-882890c448d9</td>\n",
       "<td>57842</td>\n",
       "<td>None</td>\n",
       "<td>report_figures/m37_m37c2000r503_psychometric_curve.png</td>\n",
       "<td>6daebf37-867a-db5b-288e-f70b28e1a60e</td>\n",
       "<td>2024-07-17 00:22:58</td></tr><tr><td>e740023e-7265-fe5e-d27a-39a541325a7c</td>\n",
       "<td>7296696</td>\n",
       "<td>None</td>\n",
       "<td>bistab/bistab_0001.h5</td>\n",
       "<td>22c9fad2-f9af-dd77-33de-a6a698762b64</td>\n",
       "<td>2024-07-17 00:23:16</td></tr><tr><td>e8fba290-bd1a-b422-fed1-12ae0dd0357e</td>\n",
       "<td>65674</td>\n",
       "<td>None</td>\n",
       "<td>report_figures/m37_m37c2000r498_psychometric_curve.png</td>\n",
       "<td>c8b666c0-bc37-5e21-0c58-50140a66e25e</td>\n",
       "<td>2024-07-17 00:22:58</td> </tr> </tbody>\n",
       "        </table>\n",
       "        \n",
       "        <p>Total: 12</p></div>\n",
       "        "
      ],
      "text/plain": [
       "*hash          size        attachment_nam filepath       contents_hash  timestamp     \n",
       "+------------+ +---------+ +------------+ +------------+ +------------+ +------------+\n",
       "0549ed90-1bd8- 66674       None           report_figures f79642d0-baa9- 2024-07-17 00:\n",
       "4797c923-e2ce- 69809       None           report_figures 60684f90-512e- 2024-07-17 00:\n",
       "4c9bcfc2-914b- 85124       None           report_figures 7cceba60-a79e- 2024-07-17 00:\n",
       "6169fa12-4bea- 68675       None           report_figures aad2ee9f-8fbd- 2024-07-17 00:\n",
       "789aa3ef-18a7- 68996       None           report_figures 25ae864c-1c2c- 2024-07-17 00:\n",
       "7a31742e-db74- 68334       None           report_figures 10a7a0a7-3e3a- 2024-07-17 00:\n",
       "7b7a16db-a81b- 43696       None           report_figures 2963bed7-1033- 2024-07-17 00:\n",
       "9e86bdfa-91db- 42620       None           report_figures ddd08a40-a152- 2024-07-17 00:\n",
       "9eec6c50-2061- 67442       None           report_figures e0c817b1-45cd- 2024-07-17 00:\n",
       "a8409d57-729c- 57842       None           report_figures 6daebf37-867a- 2024-07-17 00:\n",
       "e740023e-7265- 7296696     None           bistab/bistab_ 22c9fad2-f9af- 2024-07-17 00:\n",
       "e8fba290-bd1a- 65674       None           report_figures c8b666c0-bc37- 2024-07-17 00:\n",
       " (Total: 12)"
      ]
     },
     "execution_count": 44,
     "metadata": {},
     "output_type": "execute_result"
    }
   ],
   "source": [
    "schema.external['file-store'].unused()"
   ]
  },
  {
   "cell_type": "code",
   "execution_count": 45,
   "metadata": {},
   "outputs": [
    {
     "name": "stderr",
     "output_type": "stream",
     "text": [
      "100%|████████████████████████████████████████████████████████████████████████████████████████████████████████████| 12/12 [00:00<00:00, 45.99it/s]\n"
     ]
    },
    {
     "data": {
      "text/plain": [
       "[]"
      ]
     },
     "execution_count": 45,
     "metadata": {},
     "output_type": "execute_result"
    }
   ],
   "source": [
    "schema.external['file-store'].delete(delete_external_files=True)"
   ]
  }
 ],
 "metadata": {
  "kernelspec": {
   "display_name": "Python [conda env:.conda-datajoint-python] *",
   "language": "python",
   "name": "conda-env-.conda-datajoint-python-py"
  },
  "language_info": {
   "codemirror_mode": {
    "name": "ipython",
    "version": 3
   },
   "file_extension": ".py",
   "mimetype": "text/x-python",
   "name": "python",
   "nbconvert_exporter": "python",
   "pygments_lexer": "ipython3",
   "version": "3.10.14"
  }
 },
 "nbformat": 4,
 "nbformat_minor": 1
}
