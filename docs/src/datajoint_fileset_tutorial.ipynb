{
 "cells": [
  {
   "cell_type": "code",
   "execution_count": 1,
   "outputs": [
    {
     "name": "stdout",
     "output_type": "stream",
     "text": [
      "C:\\Users\\thinh\\Documents\\TN-Vathes\\DataJoint\\datajoint-python\n"
     ]
    }
   ],
   "source": [
    "cd ../.."
   ],
   "metadata": {
    "collapsed": false,
    "pycharm": {
     "name": "#%%\n"
    }
   }
  },
  {
   "cell_type": "code",
   "execution_count": 2,
   "outputs": [],
   "source": [
    "import os\n",
    "import datajoint as dj\n",
    "from pathlib import Path"
   ],
   "metadata": {
    "collapsed": false,
    "pycharm": {
     "name": "#%%\n"
    }
   }
  },
  {
   "cell_type": "code",
   "execution_count": 3,
   "outputs": [],
   "source": [
    "# set experimental feature to true: DJ_SUPPORT_FILESET_MANAGEMENT\n",
    "os.environ['DJ_SUPPORT_FILEPATH_MANAGEMENT'] = \"TRUE\"\n",
    "os.environ['DJ_SUPPORT_FILESET_MANAGEMENT'] = \"TRUE\""
   ],
   "metadata": {
    "collapsed": false,
    "pycharm": {
     "name": "#%%\n"
    }
   }
  },
  {
   "cell_type": "code",
   "execution_count": 4,
   "outputs": [],
   "source": [
    "# configure an external store\n",
    "STORE_NAME = 'file-store'\n",
    "dj.config['stores'] = {STORE_NAME: {\n",
    "    'protocol': 'file',\n",
    "    'location': 'D:/dj_store_cache',\n",
    "    'stage': 'C:/Users/thinh/Documents/Temporary'}\n",
    "}"
   ],
   "metadata": {
    "collapsed": false,
    "pycharm": {
     "name": "#%%\n"
    }
   }
  },
  {
   "cell_type": "code",
   "execution_count": 5,
   "outputs": [
    {
     "name": "stderr",
     "output_type": "stream",
     "text": [
      "[2023-02-20 11:04:01,609][INFO]: Connecting root@localhost:3306\n",
      "[2023-02-20 11:04:03,701][INFO]: Connected root@localhost:3306\n"
     ]
    }
   ],
   "source": [
    "schema = dj.Schema('test_fileset')"
   ],
   "metadata": {
    "collapsed": false,
    "pycharm": {
     "name": "#%%\n"
    }
   }
  },
  {
   "cell_type": "code",
   "execution_count": 6,
   "outputs": [],
   "source": [
    "@schema\n",
    "class Session(dj.Manual):\n",
    "    definition = \"\"\"\n",
    "    session_id: int\n",
    "    ---\n",
    "    session_fileset: fileset@file-store\n",
    "    \"\"\""
   ],
   "metadata": {
    "collapsed": false,
    "pycharm": {
     "name": "#%%\n"
    }
   }
  },
  {
   "cell_type": "code",
   "execution_count": 7,
   "outputs": [],
   "source": [
    "data_dir = Path(r\"C:\\Users\\thinh\\Documents\\Temporary\\outbox\\report_figures\")"
   ],
   "metadata": {
    "collapsed": false,
    "pycharm": {
     "name": "#%%\n"
    }
   }
  },
  {
   "cell_type": "code",
   "execution_count": 8,
   "outputs": [
    {
     "data": {
      "text/plain": "[WindowsPath('C:/Users/thinh/Documents/Temporary/outbox/report_figures/m37c100r6_psychometric_curve.png'),\n WindowsPath('C:/Users/thinh/Documents/Temporary/outbox/report_figures/m37c2000r397_psychometric_curve.png'),\n WindowsPath('C:/Users/thinh/Documents/Temporary/outbox/report_figures/m37c2000r408_psychometric_curve.png'),\n WindowsPath('C:/Users/thinh/Documents/Temporary/outbox/report_figures/m37c2000r479_psychometric_curve.png'),\n WindowsPath('C:/Users/thinh/Documents/Temporary/outbox/report_figures/m37c2000r498_psychometric_curve.png'),\n WindowsPath('C:/Users/thinh/Documents/Temporary/outbox/report_figures/m37c2000r503_psychometric_curve.png'),\n WindowsPath('C:/Users/thinh/Documents/Temporary/outbox/report_figures/m37c2000r506_psychometric_curve.png'),\n WindowsPath('C:/Users/thinh/Documents/Temporary/outbox/report_figures/m37c2000r535_psychometric_curve.png'),\n WindowsPath('C:/Users/thinh/Documents/Temporary/outbox/report_figures/m37c2000r538_psychometric_curve.png')]"
     },
     "execution_count": 8,
     "metadata": {},
     "output_type": "execute_result"
    }
   ],
   "source": [
    "# Let check the contents of the `data_dir`\n",
    "list(data_dir.rglob(\"*\"))"
   ],
   "metadata": {
    "collapsed": false,
    "pycharm": {
     "name": "#%%\n"
    }
   }
  },
  {
   "cell_type": "markdown",
   "source": [
    "#### Now, insert as a `fileset` datatype\n",
    "\n",
    "`fileset` type can be inserted from a directory"
   ],
   "metadata": {
    "collapsed": false,
    "pycharm": {
     "name": "#%% md\n"
    }
   }
  },
  {
   "cell_type": "code",
   "execution_count": 9,
   "outputs": [],
   "source": [
    "Session.insert1((0, data_dir))"
   ],
   "metadata": {
    "collapsed": false,
    "pycharm": {
     "name": "#%%\n"
    }
   }
  },
  {
   "cell_type": "code",
   "execution_count": 10,
   "outputs": [
    {
     "data": {
      "text/plain": "*session_id    session_fi\n+------------+ +--------+\n0              =BLOB=    \n (Total: 1)",
      "text/html": "\n    \n    <style type=\"text/css\">\n        .Table{\n            border-collapse:collapse;\n        }\n        .Table th{\n            background: #A0A0A0; color: #ffffff; padding:4px; border:#f0e0e0 1px solid;\n            font-weight: normal; font-family: monospace; font-size: 100%;\n        }\n        .Table td{\n            padding:4px; border:#f0e0e0 1px solid; font-size:100%;\n        }\n        .Table tr:nth-child(odd){\n            background: #ffffff;\n        }\n        .Table tr:nth-child(even){\n            background: #f3f1ff;\n        }\n        /* Tooltip container */\n        .djtooltip {\n        }\n        /* Tooltip text */\n        .djtooltip .djtooltiptext {\n            visibility: hidden;\n            width: 120px;\n            background-color: black;\n            color: #fff;\n            text-align: center;\n            padding: 5px 0;\n            border-radius: 6px;\n            /* Position the tooltip text - see examples below! */\n            position: absolute;\n            z-index: 1;\n        }\n        #primary {\n            font-weight: bold;\n            color: black;\n        }\n        #nonprimary {\n            font-weight: normal;\n            color: white;\n        }\n\n        /* Show the tooltip text when you mouse over the tooltip container */\n        .djtooltip:hover .djtooltiptext {\n            visibility: visible;\n        }\n    </style>\n    \n    <b></b>\n        <div style=\"max-height:1000px;max-width:1500px;overflow:auto;\">\n        <table border=\"1\" class=\"Table\">\n            <thead> <tr style=\"text-align: right;\"> <th> <div class=\"djtooltip\">\n                            <p id=\"primary\">session_id</p>\n                            <span class=\"djtooltiptext\"></span>\n                        </div></th><th><div class=\"djtooltip\">\n                            <p id=\"nonprimary\">session_fileset</p>\n                            <span class=\"djtooltiptext\"></span>\n                        </div> </th> </tr> </thead>\n            <tbody> <tr> <td>0</td>\n<td>=BLOB=</td> </tr> </tbody>\n        </table>\n        \n        <p>Total: 1</p></div>\n        "
     },
     "execution_count": 10,
     "metadata": {},
     "output_type": "execute_result"
    }
   ],
   "source": [
    "Session()"
   ],
   "metadata": {
    "collapsed": false,
    "pycharm": {
     "name": "#%%\n"
    }
   }
  },
  {
   "cell_type": "code",
   "execution_count": 11,
   "outputs": [
    {
     "data": {
      "text/plain": "[WindowsPath('C:/Users/thinh/Documents/Temporary/outbox/report_figures/m37c100r6_psychometric_curve.png'),\n WindowsPath('C:/Users/thinh/Documents/Temporary/outbox/report_figures/m37c2000r397_psychometric_curve.png'),\n WindowsPath('C:/Users/thinh/Documents/Temporary/outbox/report_figures/m37c2000r408_psychometric_curve.png'),\n WindowsPath('C:/Users/thinh/Documents/Temporary/outbox/report_figures/m37c2000r479_psychometric_curve.png'),\n WindowsPath('C:/Users/thinh/Documents/Temporary/outbox/report_figures/m37c2000r498_psychometric_curve.png'),\n WindowsPath('C:/Users/thinh/Documents/Temporary/outbox/report_figures/m37c2000r503_psychometric_curve.png'),\n WindowsPath('C:/Users/thinh/Documents/Temporary/outbox/report_figures/m37c2000r506_psychometric_curve.png'),\n WindowsPath('C:/Users/thinh/Documents/Temporary/outbox/report_figures/m37c2000r535_psychometric_curve.png'),\n WindowsPath('C:/Users/thinh/Documents/Temporary/outbox/report_figures/m37c2000r538_psychometric_curve.png')]"
     },
     "execution_count": 11,
     "metadata": {},
     "output_type": "execute_result"
    }
   ],
   "source": [
    "(Session & {'session_id': 0}).fetch1('session_fileset')"
   ],
   "metadata": {
    "collapsed": false,
    "pycharm": {
     "name": "#%%\n"
    }
   }
  },
  {
   "cell_type": "markdown",
   "source": [
    "#### We can also check the contents of the schema-level `fileset` store"
   ],
   "metadata": {
    "collapsed": false,
    "pycharm": {
     "name": "#%% md\n"
    }
   }
  },
  {
   "cell_type": "code",
   "execution_count": 12,
   "outputs": [
    {
     "data": {
      "text/plain": "*fileset_id    fileset_root   fileset_size   file_count     fileset_creati\n+------------+ +------------+ +------------+ +------------+ +------------+\nb2af2df8-2481- outbox/report_ 531044         9              2023-02-20 17:\n (Total: 1)",
      "text/html": "\n    \n    <style type=\"text/css\">\n        .Table{\n            border-collapse:collapse;\n        }\n        .Table th{\n            background: #A0A0A0; color: #ffffff; padding:4px; border:#f0e0e0 1px solid;\n            font-weight: normal; font-family: monospace; font-size: 100%;\n        }\n        .Table td{\n            padding:4px; border:#f0e0e0 1px solid; font-size:100%;\n        }\n        .Table tr:nth-child(odd){\n            background: #ffffff;\n        }\n        .Table tr:nth-child(even){\n            background: #f3f1ff;\n        }\n        /* Tooltip container */\n        .djtooltip {\n        }\n        /* Tooltip text */\n        .djtooltip .djtooltiptext {\n            visibility: hidden;\n            width: 120px;\n            background-color: black;\n            color: #fff;\n            text-align: center;\n            padding: 5px 0;\n            border-radius: 6px;\n            /* Position the tooltip text - see examples below! */\n            position: absolute;\n            z-index: 1;\n        }\n        #primary {\n            font-weight: bold;\n            color: black;\n        }\n        #nonprimary {\n            font-weight: normal;\n            color: white;\n        }\n\n        /* Show the tooltip text when you mouse over the tooltip container */\n        .djtooltip:hover .djtooltiptext {\n            visibility: visible;\n        }\n    </style>\n    \n    <b></b>\n        <div style=\"max-height:1000px;max-width:1500px;overflow:auto;\">\n        <table border=\"1\" class=\"Table\">\n            <thead> <tr style=\"text-align: right;\"> <th> <div class=\"djtooltip\">\n                            <p id=\"primary\">fileset_id</p>\n                            <span class=\"djtooltiptext\">identifier for a fileset - computed from the aggregated checksum of all files in the fileset</span>\n                        </div></th><th><div class=\"djtooltip\">\n                            <p id=\"nonprimary\">fileset_root</p>\n                            <span class=\"djtooltiptext\">the commonpath of all files in the fileset</span>\n                        </div></th><th><div class=\"djtooltip\">\n                            <p id=\"nonprimary\">fileset_size</p>\n                            <span class=\"djtooltiptext\">size of the entire fileset in bytes</span>\n                        </div></th><th><div class=\"djtooltip\">\n                            <p id=\"nonprimary\">file_count</p>\n                            <span class=\"djtooltiptext\"></span>\n                        </div></th><th><div class=\"djtooltip\">\n                            <p id=\"nonprimary\">fileset_creation_time</p>\n                            <span class=\"djtooltiptext\">creation time (UTC) of the fileset</span>\n                        </div> </th> </tr> </thead>\n            <tbody> <tr> <td>b2af2df8-2481-bde3-4630-585b23767a18</td>\n<td>outbox/report_figures</td>\n<td>531044</td>\n<td>9</td>\n<td>2023-02-20 17:04:18</td> </tr> </tbody>\n        </table>\n        \n        <p>Total: 1</p></div>\n        "
     },
     "execution_count": 12,
     "metadata": {},
     "output_type": "execute_result"
    }
   ],
   "source": [
    "schema.fileset['file-store']"
   ],
   "metadata": {
    "collapsed": false,
    "pycharm": {
     "name": "#%%\n"
    }
   }
  },
  {
   "cell_type": "code",
   "source": [
    "schema.fileset['file-store'].File"
   ],
   "metadata": {
    "collapsed": false,
    "pycharm": {
     "name": "#%%\n"
    }
   },
   "execution_count": 13,
   "outputs": [
    {
     "data": {
      "text/plain": "*fileset_id    *hash          filepath       file      \n+------------+ +------------+ +------------+ +--------+\nb2af2df8-2481- 159bdbe3-39a8- outbox/report_ =BLOB=    \nb2af2df8-2481- 64f268ce-e8ba- outbox/report_ =BLOB=    \nb2af2df8-2481- 97675579-9d34- outbox/report_ =BLOB=    \nb2af2df8-2481- 9b8c4e8c-ed48- outbox/report_ =BLOB=    \nb2af2df8-2481- aa8c5918-105d- outbox/report_ =BLOB=    \nb2af2df8-2481- c87263f2-632b- outbox/report_ =BLOB=    \nb2af2df8-2481- ce5eb1c8-4b8f- outbox/report_ =BLOB=    \n   ...\n (Total: 9)",
      "text/html": "\n    \n    <style type=\"text/css\">\n        .Table{\n            border-collapse:collapse;\n        }\n        .Table th{\n            background: #A0A0A0; color: #ffffff; padding:4px; border:#f0e0e0 1px solid;\n            font-weight: normal; font-family: monospace; font-size: 100%;\n        }\n        .Table td{\n            padding:4px; border:#f0e0e0 1px solid; font-size:100%;\n        }\n        .Table tr:nth-child(odd){\n            background: #ffffff;\n        }\n        .Table tr:nth-child(even){\n            background: #f3f1ff;\n        }\n        /* Tooltip container */\n        .djtooltip {\n        }\n        /* Tooltip text */\n        .djtooltip .djtooltiptext {\n            visibility: hidden;\n            width: 120px;\n            background-color: black;\n            color: #fff;\n            text-align: center;\n            padding: 5px 0;\n            border-radius: 6px;\n            /* Position the tooltip text - see examples below! */\n            position: absolute;\n            z-index: 1;\n        }\n        #primary {\n            font-weight: bold;\n            color: black;\n        }\n        #nonprimary {\n            font-weight: normal;\n            color: white;\n        }\n\n        /* Show the tooltip text when you mouse over the tooltip container */\n        .djtooltip:hover .djtooltiptext {\n            visibility: visible;\n        }\n    </style>\n    \n    <b></b>\n        <div style=\"max-height:1000px;max-width:1500px;overflow:auto;\">\n        <table border=\"1\" class=\"Table\">\n            <thead> <tr style=\"text-align: right;\"> <th> <div class=\"djtooltip\">\n                            <p id=\"primary\">fileset_id</p>\n                            <span class=\"djtooltiptext\">identifier for a fileset - computed from the aggregated checksum of all files in the fileset</span>\n                        </div></th><th><div class=\"djtooltip\">\n                            <p id=\"primary\">hash</p>\n                            <span class=\"djtooltiptext\">hash of filename + contents (attach)</span>\n                        </div></th><th><div class=\"djtooltip\">\n                            <p id=\"nonprimary\">filepath</p>\n                            <span class=\"djtooltiptext\">filepath relative to the \"location\" of the store</span>\n                        </div></th><th><div class=\"djtooltip\">\n                            <p id=\"nonprimary\">file</p>\n                            <span class=\"djtooltiptext\"></span>\n                        </div> </th> </tr> </thead>\n            <tbody> <tr> <td>b2af2df8-2481-bde3-4630-585b23767a18</td>\n<td>159bdbe3-39a8-bd67-ead7-36176ba7f5bf</td>\n<td>outbox/report_figures/m37c100r6_psychometric_curve.png</td>\n<td>=BLOB=</td></tr><tr><td>b2af2df8-2481-bde3-4630-585b23767a18</td>\n<td>64f268ce-e8ba-4e92-bc07-4d32c12d1c24</td>\n<td>outbox/report_figures/m37c2000r498_psychometric_curve.png</td>\n<td>=BLOB=</td></tr><tr><td>b2af2df8-2481-bde3-4630-585b23767a18</td>\n<td>97675579-9d34-d714-d212-5aaa05b2c01f</td>\n<td>outbox/report_figures/m37c2000r503_psychometric_curve.png</td>\n<td>=BLOB=</td></tr><tr><td>b2af2df8-2481-bde3-4630-585b23767a18</td>\n<td>9b8c4e8c-ed48-04b1-db32-15785cf1b298</td>\n<td>outbox/report_figures/m37c2000r408_psychometric_curve.png</td>\n<td>=BLOB=</td></tr><tr><td>b2af2df8-2481-bde3-4630-585b23767a18</td>\n<td>aa8c5918-105d-251a-f492-68c3b3bfa770</td>\n<td>outbox/report_figures/m37c2000r397_psychometric_curve.png</td>\n<td>=BLOB=</td></tr><tr><td>b2af2df8-2481-bde3-4630-585b23767a18</td>\n<td>c87263f2-632b-332b-5ca4-40aa7c38161c</td>\n<td>outbox/report_figures/m37c2000r535_psychometric_curve.png</td>\n<td>=BLOB=</td></tr><tr><td>b2af2df8-2481-bde3-4630-585b23767a18</td>\n<td>ce5eb1c8-4b8f-a808-106f-7442ba70383f</td>\n<td>outbox/report_figures/m37c2000r479_psychometric_curve.png</td>\n<td>=BLOB=</td> </tr> </tbody>\n        </table>\n        <p>...</p>\n        <p>Total: 9</p></div>\n        "
     },
     "execution_count": 13,
     "metadata": {},
     "output_type": "execute_result"
    }
   ]
  },
  {
   "cell_type": "code",
   "execution_count": 14,
   "outputs": [
    {
     "data": {
      "text/plain": "*hash          size      attachment_nam filepath     contents_hash  timestamp     \n+------------+ +-------+ +------------+ +----------+ +------------+ +------------+\n159bdbe3-39a8- 74830     m37c100r6_psyc None         None           2023-02-20 11:\n64f268ce-e8ba- 69699     m37c2000r498_p None         None           2023-02-20 11:\n97675579-9d34- 63384     m37c2000r503_p None         None           2023-02-20 11:\n9b8c4e8c-ed48- 48093     m37c2000r408_p None         None           2023-02-20 11:\naa8c5918-105d- 76855     m37c2000r397_p None         None           2023-02-20 11:\nc87263f2-632b- 43068     m37c2000r535_p None         None           2023-02-20 11:\nce5eb1c8-4b8f- 50216     m37c2000r479_p None         None           2023-02-20 11:\n   ...\n (Total: 9)",
      "text/html": "\n    \n    <style type=\"text/css\">\n        .Table{\n            border-collapse:collapse;\n        }\n        .Table th{\n            background: #A0A0A0; color: #ffffff; padding:4px; border:#f0e0e0 1px solid;\n            font-weight: normal; font-family: monospace; font-size: 100%;\n        }\n        .Table td{\n            padding:4px; border:#f0e0e0 1px solid; font-size:100%;\n        }\n        .Table tr:nth-child(odd){\n            background: #ffffff;\n        }\n        .Table tr:nth-child(even){\n            background: #f3f1ff;\n        }\n        /* Tooltip container */\n        .djtooltip {\n        }\n        /* Tooltip text */\n        .djtooltip .djtooltiptext {\n            visibility: hidden;\n            width: 120px;\n            background-color: black;\n            color: #fff;\n            text-align: center;\n            padding: 5px 0;\n            border-radius: 6px;\n            /* Position the tooltip text - see examples below! */\n            position: absolute;\n            z-index: 1;\n        }\n        #primary {\n            font-weight: bold;\n            color: black;\n        }\n        #nonprimary {\n            font-weight: normal;\n            color: white;\n        }\n\n        /* Show the tooltip text when you mouse over the tooltip container */\n        .djtooltip:hover .djtooltiptext {\n            visibility: visible;\n        }\n    </style>\n    \n    <b>external storage tracking</b>\n        <div style=\"max-height:1000px;max-width:1500px;overflow:auto;\">\n        <table border=\"1\" class=\"Table\">\n            <thead> <tr style=\"text-align: right;\"> <th> <div class=\"djtooltip\">\n                            <p id=\"primary\">hash</p>\n                            <span class=\"djtooltiptext\">hash of contents (blob), of filename + contents (attach), or relative filepath (filepath)</span>\n                        </div></th><th><div class=\"djtooltip\">\n                            <p id=\"nonprimary\">size</p>\n                            <span class=\"djtooltiptext\">size of object in bytes</span>\n                        </div></th><th><div class=\"djtooltip\">\n                            <p id=\"nonprimary\">attachment_name</p>\n                            <span class=\"djtooltiptext\">the filename of an attachment</span>\n                        </div></th><th><div class=\"djtooltip\">\n                            <p id=\"nonprimary\">filepath</p>\n                            <span class=\"djtooltiptext\">relative filepath or attachment filename</span>\n                        </div></th><th><div class=\"djtooltip\">\n                            <p id=\"nonprimary\">contents_hash</p>\n                            <span class=\"djtooltiptext\">used for the filepath datatype</span>\n                        </div></th><th><div class=\"djtooltip\">\n                            <p id=\"nonprimary\">timestamp</p>\n                            <span class=\"djtooltiptext\">automatic timestamp</span>\n                        </div> </th> </tr> </thead>\n            <tbody> <tr> <td>159bdbe3-39a8-bd67-ead7-36176ba7f5bf</td>\n<td>74830</td>\n<td>m37c100r6_psychometric_curve.png</td>\n<td>None</td>\n<td>None</td>\n<td>2023-02-20 11:04:17</td></tr><tr><td>64f268ce-e8ba-4e92-bc07-4d32c12d1c24</td>\n<td>69699</td>\n<td>m37c2000r498_psychometric_curve.png</td>\n<td>None</td>\n<td>None</td>\n<td>2023-02-20 11:04:18</td></tr><tr><td>97675579-9d34-d714-d212-5aaa05b2c01f</td>\n<td>63384</td>\n<td>m37c2000r503_psychometric_curve.png</td>\n<td>None</td>\n<td>None</td>\n<td>2023-02-20 11:04:18</td></tr><tr><td>9b8c4e8c-ed48-04b1-db32-15785cf1b298</td>\n<td>48093</td>\n<td>m37c2000r408_psychometric_curve.png</td>\n<td>None</td>\n<td>None</td>\n<td>2023-02-20 11:04:17</td></tr><tr><td>aa8c5918-105d-251a-f492-68c3b3bfa770</td>\n<td>76855</td>\n<td>m37c2000r397_psychometric_curve.png</td>\n<td>None</td>\n<td>None</td>\n<td>2023-02-20 11:04:17</td></tr><tr><td>c87263f2-632b-332b-5ca4-40aa7c38161c</td>\n<td>43068</td>\n<td>m37c2000r535_psychometric_curve.png</td>\n<td>None</td>\n<td>None</td>\n<td>2023-02-20 11:04:18</td></tr><tr><td>ce5eb1c8-4b8f-a808-106f-7442ba70383f</td>\n<td>50216</td>\n<td>m37c2000r479_psychometric_curve.png</td>\n<td>None</td>\n<td>None</td>\n<td>2023-02-20 11:04:18</td> </tr> </tbody>\n        </table>\n        <p>...</p>\n        <p>Total: 9</p></div>\n        "
     },
     "execution_count": 14,
     "metadata": {},
     "output_type": "execute_result"
    }
   ],
   "source": [
    "schema.external['file-store']"
   ],
   "metadata": {
    "collapsed": false,
    "pycharm": {
     "name": "#%%\n"
    }
   }
  },
  {
   "cell_type": "markdown",
   "source": [
    "#### Now, let's add another entry into `Session` with the same fileset"
   ],
   "metadata": {
    "collapsed": false,
    "pycharm": {
     "name": "#%% md\n"
    }
   }
  },
  {
   "cell_type": "code",
   "execution_count": 15,
   "outputs": [],
   "source": [
    "Session.insert1((1, data_dir))"
   ],
   "metadata": {
    "collapsed": false,
    "pycharm": {
     "name": "#%%\n"
    }
   }
  },
  {
   "cell_type": "code",
   "execution_count": 16,
   "outputs": [
    {
     "data": {
      "text/plain": "*session_id    session_fi\n+------------+ +--------+\n0              =BLOB=    \n1              =BLOB=    \n (Total: 2)",
      "text/html": "\n    \n    <style type=\"text/css\">\n        .Table{\n            border-collapse:collapse;\n        }\n        .Table th{\n            background: #A0A0A0; color: #ffffff; padding:4px; border:#f0e0e0 1px solid;\n            font-weight: normal; font-family: monospace; font-size: 100%;\n        }\n        .Table td{\n            padding:4px; border:#f0e0e0 1px solid; font-size:100%;\n        }\n        .Table tr:nth-child(odd){\n            background: #ffffff;\n        }\n        .Table tr:nth-child(even){\n            background: #f3f1ff;\n        }\n        /* Tooltip container */\n        .djtooltip {\n        }\n        /* Tooltip text */\n        .djtooltip .djtooltiptext {\n            visibility: hidden;\n            width: 120px;\n            background-color: black;\n            color: #fff;\n            text-align: center;\n            padding: 5px 0;\n            border-radius: 6px;\n            /* Position the tooltip text - see examples below! */\n            position: absolute;\n            z-index: 1;\n        }\n        #primary {\n            font-weight: bold;\n            color: black;\n        }\n        #nonprimary {\n            font-weight: normal;\n            color: white;\n        }\n\n        /* Show the tooltip text when you mouse over the tooltip container */\n        .djtooltip:hover .djtooltiptext {\n            visibility: visible;\n        }\n    </style>\n    \n    <b></b>\n        <div style=\"max-height:1000px;max-width:1500px;overflow:auto;\">\n        <table border=\"1\" class=\"Table\">\n            <thead> <tr style=\"text-align: right;\"> <th> <div class=\"djtooltip\">\n                            <p id=\"primary\">session_id</p>\n                            <span class=\"djtooltiptext\"></span>\n                        </div></th><th><div class=\"djtooltip\">\n                            <p id=\"nonprimary\">session_fileset</p>\n                            <span class=\"djtooltiptext\"></span>\n                        </div> </th> </tr> </thead>\n            <tbody> <tr> <td>0</td>\n<td>=BLOB=</td></tr><tr><td>1</td>\n<td>=BLOB=</td> </tr> </tbody>\n        </table>\n        \n        <p>Total: 2</p></div>\n        "
     },
     "execution_count": 16,
     "metadata": {},
     "output_type": "execute_result"
    }
   ],
   "source": [
    "Session()"
   ],
   "metadata": {
    "collapsed": false,
    "pycharm": {
     "name": "#%%\n"
    }
   }
  },
  {
   "cell_type": "markdown",
   "source": [
    "#### Check the external fileset again, we should not expect file duplications"
   ],
   "metadata": {
    "collapsed": false,
    "pycharm": {
     "name": "#%% md\n"
    }
   }
  },
  {
   "cell_type": "code",
   "execution_count": 17,
   "outputs": [
    {
     "data": {
      "text/plain": "*hash          size      attachment_nam filepath     contents_hash  timestamp     \n+------------+ +-------+ +------------+ +----------+ +------------+ +------------+\n159bdbe3-39a8- 74830     m37c100r6_psyc None         None           2023-02-20 11:\n64f268ce-e8ba- 69699     m37c2000r498_p None         None           2023-02-20 11:\n97675579-9d34- 63384     m37c2000r503_p None         None           2023-02-20 11:\n9b8c4e8c-ed48- 48093     m37c2000r408_p None         None           2023-02-20 11:\naa8c5918-105d- 76855     m37c2000r397_p None         None           2023-02-20 11:\nc87263f2-632b- 43068     m37c2000r535_p None         None           2023-02-20 11:\nce5eb1c8-4b8f- 50216     m37c2000r479_p None         None           2023-02-20 11:\n   ...\n (Total: 9)",
      "text/html": "\n    \n    <style type=\"text/css\">\n        .Table{\n            border-collapse:collapse;\n        }\n        .Table th{\n            background: #A0A0A0; color: #ffffff; padding:4px; border:#f0e0e0 1px solid;\n            font-weight: normal; font-family: monospace; font-size: 100%;\n        }\n        .Table td{\n            padding:4px; border:#f0e0e0 1px solid; font-size:100%;\n        }\n        .Table tr:nth-child(odd){\n            background: #ffffff;\n        }\n        .Table tr:nth-child(even){\n            background: #f3f1ff;\n        }\n        /* Tooltip container */\n        .djtooltip {\n        }\n        /* Tooltip text */\n        .djtooltip .djtooltiptext {\n            visibility: hidden;\n            width: 120px;\n            background-color: black;\n            color: #fff;\n            text-align: center;\n            padding: 5px 0;\n            border-radius: 6px;\n            /* Position the tooltip text - see examples below! */\n            position: absolute;\n            z-index: 1;\n        }\n        #primary {\n            font-weight: bold;\n            color: black;\n        }\n        #nonprimary {\n            font-weight: normal;\n            color: white;\n        }\n\n        /* Show the tooltip text when you mouse over the tooltip container */\n        .djtooltip:hover .djtooltiptext {\n            visibility: visible;\n        }\n    </style>\n    \n    <b>external storage tracking</b>\n        <div style=\"max-height:1000px;max-width:1500px;overflow:auto;\">\n        <table border=\"1\" class=\"Table\">\n            <thead> <tr style=\"text-align: right;\"> <th> <div class=\"djtooltip\">\n                            <p id=\"primary\">hash</p>\n                            <span class=\"djtooltiptext\">hash of contents (blob), of filename + contents (attach), or relative filepath (filepath)</span>\n                        </div></th><th><div class=\"djtooltip\">\n                            <p id=\"nonprimary\">size</p>\n                            <span class=\"djtooltiptext\">size of object in bytes</span>\n                        </div></th><th><div class=\"djtooltip\">\n                            <p id=\"nonprimary\">attachment_name</p>\n                            <span class=\"djtooltiptext\">the filename of an attachment</span>\n                        </div></th><th><div class=\"djtooltip\">\n                            <p id=\"nonprimary\">filepath</p>\n                            <span class=\"djtooltiptext\">relative filepath or attachment filename</span>\n                        </div></th><th><div class=\"djtooltip\">\n                            <p id=\"nonprimary\">contents_hash</p>\n                            <span class=\"djtooltiptext\">used for the filepath datatype</span>\n                        </div></th><th><div class=\"djtooltip\">\n                            <p id=\"nonprimary\">timestamp</p>\n                            <span class=\"djtooltiptext\">automatic timestamp</span>\n                        </div> </th> </tr> </thead>\n            <tbody> <tr> <td>159bdbe3-39a8-bd67-ead7-36176ba7f5bf</td>\n<td>74830</td>\n<td>m37c100r6_psychometric_curve.png</td>\n<td>None</td>\n<td>None</td>\n<td>2023-02-20 11:04:35</td></tr><tr><td>64f268ce-e8ba-4e92-bc07-4d32c12d1c24</td>\n<td>69699</td>\n<td>m37c2000r498_psychometric_curve.png</td>\n<td>None</td>\n<td>None</td>\n<td>2023-02-20 11:04:35</td></tr><tr><td>97675579-9d34-d714-d212-5aaa05b2c01f</td>\n<td>63384</td>\n<td>m37c2000r503_psychometric_curve.png</td>\n<td>None</td>\n<td>None</td>\n<td>2023-02-20 11:04:35</td></tr><tr><td>9b8c4e8c-ed48-04b1-db32-15785cf1b298</td>\n<td>48093</td>\n<td>m37c2000r408_psychometric_curve.png</td>\n<td>None</td>\n<td>None</td>\n<td>2023-02-20 11:04:35</td></tr><tr><td>aa8c5918-105d-251a-f492-68c3b3bfa770</td>\n<td>76855</td>\n<td>m37c2000r397_psychometric_curve.png</td>\n<td>None</td>\n<td>None</td>\n<td>2023-02-20 11:04:35</td></tr><tr><td>c87263f2-632b-332b-5ca4-40aa7c38161c</td>\n<td>43068</td>\n<td>m37c2000r535_psychometric_curve.png</td>\n<td>None</td>\n<td>None</td>\n<td>2023-02-20 11:04:35</td></tr><tr><td>ce5eb1c8-4b8f-a808-106f-7442ba70383f</td>\n<td>50216</td>\n<td>m37c2000r479_psychometric_curve.png</td>\n<td>None</td>\n<td>None</td>\n<td>2023-02-20 11:04:35</td> </tr> </tbody>\n        </table>\n        <p>...</p>\n        <p>Total: 9</p></div>\n        "
     },
     "execution_count": 17,
     "metadata": {},
     "output_type": "execute_result"
    }
   ],
   "source": [
    "schema.external['file-store']"
   ],
   "metadata": {
    "collapsed": false,
    "pycharm": {
     "name": "#%%\n"
    }
   }
  },
  {
   "cell_type": "code",
   "execution_count": 18,
   "outputs": [
    {
     "data": {
      "text/plain": "*fileset_id    fileset_root   fileset_size   file_count     fileset_creati\n+------------+ +------------+ +------------+ +------------+ +------------+\nb2af2df8-2481- outbox/report_ 531044         9              2023-02-20 17:\n (Total: 1)",
      "text/html": "\n    \n    <style type=\"text/css\">\n        .Table{\n            border-collapse:collapse;\n        }\n        .Table th{\n            background: #A0A0A0; color: #ffffff; padding:4px; border:#f0e0e0 1px solid;\n            font-weight: normal; font-family: monospace; font-size: 100%;\n        }\n        .Table td{\n            padding:4px; border:#f0e0e0 1px solid; font-size:100%;\n        }\n        .Table tr:nth-child(odd){\n            background: #ffffff;\n        }\n        .Table tr:nth-child(even){\n            background: #f3f1ff;\n        }\n        /* Tooltip container */\n        .djtooltip {\n        }\n        /* Tooltip text */\n        .djtooltip .djtooltiptext {\n            visibility: hidden;\n            width: 120px;\n            background-color: black;\n            color: #fff;\n            text-align: center;\n            padding: 5px 0;\n            border-radius: 6px;\n            /* Position the tooltip text - see examples below! */\n            position: absolute;\n            z-index: 1;\n        }\n        #primary {\n            font-weight: bold;\n            color: black;\n        }\n        #nonprimary {\n            font-weight: normal;\n            color: white;\n        }\n\n        /* Show the tooltip text when you mouse over the tooltip container */\n        .djtooltip:hover .djtooltiptext {\n            visibility: visible;\n        }\n    </style>\n    \n    <b></b>\n        <div style=\"max-height:1000px;max-width:1500px;overflow:auto;\">\n        <table border=\"1\" class=\"Table\">\n            <thead> <tr style=\"text-align: right;\"> <th> <div class=\"djtooltip\">\n                            <p id=\"primary\">fileset_id</p>\n                            <span class=\"djtooltiptext\">identifier for a fileset - computed from the aggregated checksum of all files in the fileset</span>\n                        </div></th><th><div class=\"djtooltip\">\n                            <p id=\"nonprimary\">fileset_root</p>\n                            <span class=\"djtooltiptext\">the commonpath of all files in the fileset</span>\n                        </div></th><th><div class=\"djtooltip\">\n                            <p id=\"nonprimary\">fileset_size</p>\n                            <span class=\"djtooltiptext\">size of the entire fileset in bytes</span>\n                        </div></th><th><div class=\"djtooltip\">\n                            <p id=\"nonprimary\">file_count</p>\n                            <span class=\"djtooltiptext\"></span>\n                        </div></th><th><div class=\"djtooltip\">\n                            <p id=\"nonprimary\">fileset_creation_time</p>\n                            <span class=\"djtooltiptext\">creation time (UTC) of the fileset</span>\n                        </div> </th> </tr> </thead>\n            <tbody> <tr> <td>b2af2df8-2481-bde3-4630-585b23767a18</td>\n<td>outbox/report_figures</td>\n<td>531044</td>\n<td>9</td>\n<td>2023-02-20 17:04:18</td> </tr> </tbody>\n        </table>\n        \n        <p>Total: 1</p></div>\n        "
     },
     "execution_count": 18,
     "metadata": {},
     "output_type": "execute_result"
    }
   ],
   "source": [
    "schema.fileset['file-store']"
   ],
   "metadata": {
    "collapsed": false,
    "pycharm": {
     "name": "#%%\n"
    }
   }
  },
  {
   "cell_type": "code",
   "source": [
    "schema.fileset['file-store'].File"
   ],
   "metadata": {
    "collapsed": false,
    "pycharm": {
     "name": "#%%\n"
    }
   },
   "execution_count": 19,
   "outputs": [
    {
     "data": {
      "text/plain": "*fileset_id    *hash          filepath       file      \n+------------+ +------------+ +------------+ +--------+\nb2af2df8-2481- 159bdbe3-39a8- outbox/report_ =BLOB=    \nb2af2df8-2481- 64f268ce-e8ba- outbox/report_ =BLOB=    \nb2af2df8-2481- 97675579-9d34- outbox/report_ =BLOB=    \nb2af2df8-2481- 9b8c4e8c-ed48- outbox/report_ =BLOB=    \nb2af2df8-2481- aa8c5918-105d- outbox/report_ =BLOB=    \nb2af2df8-2481- c87263f2-632b- outbox/report_ =BLOB=    \nb2af2df8-2481- ce5eb1c8-4b8f- outbox/report_ =BLOB=    \n   ...\n (Total: 9)",
      "text/html": "\n    \n    <style type=\"text/css\">\n        .Table{\n            border-collapse:collapse;\n        }\n        .Table th{\n            background: #A0A0A0; color: #ffffff; padding:4px; border:#f0e0e0 1px solid;\n            font-weight: normal; font-family: monospace; font-size: 100%;\n        }\n        .Table td{\n            padding:4px; border:#f0e0e0 1px solid; font-size:100%;\n        }\n        .Table tr:nth-child(odd){\n            background: #ffffff;\n        }\n        .Table tr:nth-child(even){\n            background: #f3f1ff;\n        }\n        /* Tooltip container */\n        .djtooltip {\n        }\n        /* Tooltip text */\n        .djtooltip .djtooltiptext {\n            visibility: hidden;\n            width: 120px;\n            background-color: black;\n            color: #fff;\n            text-align: center;\n            padding: 5px 0;\n            border-radius: 6px;\n            /* Position the tooltip text - see examples below! */\n            position: absolute;\n            z-index: 1;\n        }\n        #primary {\n            font-weight: bold;\n            color: black;\n        }\n        #nonprimary {\n            font-weight: normal;\n            color: white;\n        }\n\n        /* Show the tooltip text when you mouse over the tooltip container */\n        .djtooltip:hover .djtooltiptext {\n            visibility: visible;\n        }\n    </style>\n    \n    <b></b>\n        <div style=\"max-height:1000px;max-width:1500px;overflow:auto;\">\n        <table border=\"1\" class=\"Table\">\n            <thead> <tr style=\"text-align: right;\"> <th> <div class=\"djtooltip\">\n                            <p id=\"primary\">fileset_id</p>\n                            <span class=\"djtooltiptext\">identifier for a fileset - computed from the aggregated checksum of all files in the fileset</span>\n                        </div></th><th><div class=\"djtooltip\">\n                            <p id=\"primary\">hash</p>\n                            <span class=\"djtooltiptext\">hash of filename + contents (attach)</span>\n                        </div></th><th><div class=\"djtooltip\">\n                            <p id=\"nonprimary\">filepath</p>\n                            <span class=\"djtooltiptext\">filepath relative to the \"location\" of the store</span>\n                        </div></th><th><div class=\"djtooltip\">\n                            <p id=\"nonprimary\">file</p>\n                            <span class=\"djtooltiptext\"></span>\n                        </div> </th> </tr> </thead>\n            <tbody> <tr> <td>b2af2df8-2481-bde3-4630-585b23767a18</td>\n<td>159bdbe3-39a8-bd67-ead7-36176ba7f5bf</td>\n<td>outbox/report_figures/m37c100r6_psychometric_curve.png</td>\n<td>=BLOB=</td></tr><tr><td>b2af2df8-2481-bde3-4630-585b23767a18</td>\n<td>64f268ce-e8ba-4e92-bc07-4d32c12d1c24</td>\n<td>outbox/report_figures/m37c2000r498_psychometric_curve.png</td>\n<td>=BLOB=</td></tr><tr><td>b2af2df8-2481-bde3-4630-585b23767a18</td>\n<td>97675579-9d34-d714-d212-5aaa05b2c01f</td>\n<td>outbox/report_figures/m37c2000r503_psychometric_curve.png</td>\n<td>=BLOB=</td></tr><tr><td>b2af2df8-2481-bde3-4630-585b23767a18</td>\n<td>9b8c4e8c-ed48-04b1-db32-15785cf1b298</td>\n<td>outbox/report_figures/m37c2000r408_psychometric_curve.png</td>\n<td>=BLOB=</td></tr><tr><td>b2af2df8-2481-bde3-4630-585b23767a18</td>\n<td>aa8c5918-105d-251a-f492-68c3b3bfa770</td>\n<td>outbox/report_figures/m37c2000r397_psychometric_curve.png</td>\n<td>=BLOB=</td></tr><tr><td>b2af2df8-2481-bde3-4630-585b23767a18</td>\n<td>c87263f2-632b-332b-5ca4-40aa7c38161c</td>\n<td>outbox/report_figures/m37c2000r535_psychometric_curve.png</td>\n<td>=BLOB=</td></tr><tr><td>b2af2df8-2481-bde3-4630-585b23767a18</td>\n<td>ce5eb1c8-4b8f-a808-106f-7442ba70383f</td>\n<td>outbox/report_figures/m37c2000r479_psychometric_curve.png</td>\n<td>=BLOB=</td> </tr> </tbody>\n        </table>\n        <p>...</p>\n        <p>Total: 9</p></div>\n        "
     },
     "execution_count": 19,
     "metadata": {},
     "output_type": "execute_result"
    }
   ]
  },
  {
   "cell_type": "markdown",
   "source": [
    "#### Next, let's introduce a new fileset - we'll use the same files from \"data_dir\" plus one more file"
   ],
   "metadata": {
    "collapsed": false,
    "pycharm": {
     "name": "#%% md\n"
    }
   }
  },
  {
   "cell_type": "code",
   "execution_count": 20,
   "outputs": [
    {
     "data": {
      "text/plain": "WindowsPath('C:/Users/thinh/Documents/Temporary/outbox/report_figures')"
     },
     "execution_count": 20,
     "metadata": {},
     "output_type": "execute_result"
    }
   ],
   "source": [
    "data_dir"
   ],
   "metadata": {
    "collapsed": false,
    "pycharm": {
     "name": "#%%\n"
    }
   }
  },
  {
   "cell_type": "code",
   "execution_count": 21,
   "outputs": [
    {
     "data": {
      "text/plain": "[WindowsPath('C:/Users/thinh/Documents/Temporary/outbox/report_figures'),\n WindowsPath('C:/Users/thinh/Documents/Temporary/outbox/structure.oebin')]"
     },
     "execution_count": 21,
     "metadata": {},
     "output_type": "execute_result"
    }
   ],
   "source": [
    "list(Path(data_dir.parent).glob(\"*\"))"
   ],
   "metadata": {
    "collapsed": false,
    "pycharm": {
     "name": "#%%\n"
    }
   }
  },
  {
   "cell_type": "code",
   "execution_count": 22,
   "outputs": [],
   "source": [
    "fileset2 = list(data_dir.rglob(\"*\")) + [Path('C:/Users/thinh/Documents/Temporary/outbox/structure.oebin')]"
   ],
   "metadata": {
    "collapsed": false,
    "pycharm": {
     "name": "#%%\n"
    }
   }
  },
  {
   "cell_type": "code",
   "execution_count": 23,
   "outputs": [
    {
     "data": {
      "text/plain": "[WindowsPath('C:/Users/thinh/Documents/Temporary/outbox/report_figures/m37c100r6_psychometric_curve.png'),\n WindowsPath('C:/Users/thinh/Documents/Temporary/outbox/report_figures/m37c2000r397_psychometric_curve.png'),\n WindowsPath('C:/Users/thinh/Documents/Temporary/outbox/report_figures/m37c2000r408_psychometric_curve.png'),\n WindowsPath('C:/Users/thinh/Documents/Temporary/outbox/report_figures/m37c2000r479_psychometric_curve.png'),\n WindowsPath('C:/Users/thinh/Documents/Temporary/outbox/report_figures/m37c2000r498_psychometric_curve.png'),\n WindowsPath('C:/Users/thinh/Documents/Temporary/outbox/report_figures/m37c2000r503_psychometric_curve.png'),\n WindowsPath('C:/Users/thinh/Documents/Temporary/outbox/report_figures/m37c2000r506_psychometric_curve.png'),\n WindowsPath('C:/Users/thinh/Documents/Temporary/outbox/report_figures/m37c2000r535_psychometric_curve.png'),\n WindowsPath('C:/Users/thinh/Documents/Temporary/outbox/report_figures/m37c2000r538_psychometric_curve.png'),\n WindowsPath('C:/Users/thinh/Documents/Temporary/outbox/structure.oebin')]"
     },
     "execution_count": 23,
     "metadata": {},
     "output_type": "execute_result"
    }
   ],
   "source": [
    "fileset2"
   ],
   "metadata": {
    "collapsed": false,
    "pycharm": {
     "name": "#%%\n"
    }
   }
  },
  {
   "cell_type": "markdown",
   "source": [
    "#### Insert new record into Session - `fileset` type can be inserted as a list of paths"
   ],
   "metadata": {
    "collapsed": false,
    "pycharm": {
     "name": "#%% md\n"
    }
   }
  },
  {
   "cell_type": "code",
   "source": [
    "Session.insert1((2, fileset2))"
   ],
   "metadata": {
    "collapsed": false,
    "pycharm": {
     "name": "#%%\n"
    }
   },
   "execution_count": 29,
   "outputs": []
  },
  {
   "cell_type": "code",
   "execution_count": 30,
   "outputs": [
    {
     "data": {
      "text/plain": "*session_id    session_fi\n+------------+ +--------+\n0              =BLOB=    \n1              =BLOB=    \n2              =BLOB=    \n (Total: 3)",
      "text/html": "\n    \n    <style type=\"text/css\">\n        .Table{\n            border-collapse:collapse;\n        }\n        .Table th{\n            background: #A0A0A0; color: #ffffff; padding:4px; border:#f0e0e0 1px solid;\n            font-weight: normal; font-family: monospace; font-size: 100%;\n        }\n        .Table td{\n            padding:4px; border:#f0e0e0 1px solid; font-size:100%;\n        }\n        .Table tr:nth-child(odd){\n            background: #ffffff;\n        }\n        .Table tr:nth-child(even){\n            background: #f3f1ff;\n        }\n        /* Tooltip container */\n        .djtooltip {\n        }\n        /* Tooltip text */\n        .djtooltip .djtooltiptext {\n            visibility: hidden;\n            width: 120px;\n            background-color: black;\n            color: #fff;\n            text-align: center;\n            padding: 5px 0;\n            border-radius: 6px;\n            /* Position the tooltip text - see examples below! */\n            position: absolute;\n            z-index: 1;\n        }\n        #primary {\n            font-weight: bold;\n            color: black;\n        }\n        #nonprimary {\n            font-weight: normal;\n            color: white;\n        }\n\n        /* Show the tooltip text when you mouse over the tooltip container */\n        .djtooltip:hover .djtooltiptext {\n            visibility: visible;\n        }\n    </style>\n    \n    <b></b>\n        <div style=\"max-height:1000px;max-width:1500px;overflow:auto;\">\n        <table border=\"1\" class=\"Table\">\n            <thead> <tr style=\"text-align: right;\"> <th> <div class=\"djtooltip\">\n                            <p id=\"primary\">session_id</p>\n                            <span class=\"djtooltiptext\"></span>\n                        </div></th><th><div class=\"djtooltip\">\n                            <p id=\"nonprimary\">session_fileset</p>\n                            <span class=\"djtooltiptext\"></span>\n                        </div> </th> </tr> </thead>\n            <tbody> <tr> <td>0</td>\n<td>=BLOB=</td></tr><tr><td>1</td>\n<td>=BLOB=</td></tr><tr><td>2</td>\n<td>=BLOB=</td> </tr> </tbody>\n        </table>\n        \n        <p>Total: 3</p></div>\n        "
     },
     "execution_count": 30,
     "metadata": {},
     "output_type": "execute_result"
    }
   ],
   "source": [
    "Session()"
   ],
   "metadata": {
    "collapsed": false,
    "pycharm": {
     "name": "#%%\n"
    }
   }
  },
  {
   "cell_type": "markdown",
   "source": [
    "#### Let's check the external fileset store again"
   ],
   "metadata": {
    "collapsed": false,
    "pycharm": {
     "name": "#%% md\n"
    }
   }
  },
  {
   "cell_type": "code",
   "execution_count": 31,
   "outputs": [
    {
     "data": {
      "text/plain": "*fileset_id    fileset_root   fileset_size   file_count     fileset_creati\n+------------+ +------------+ +------------+ +------------+ +------------+\nb2af2df8-2481- outbox/report_ 531044         9              2023-02-20 17:\nc0d1d460-bc3c- outbox         1851506        10             2023-02-20 17:\n (Total: 2)",
      "text/html": "\n    \n    <style type=\"text/css\">\n        .Table{\n            border-collapse:collapse;\n        }\n        .Table th{\n            background: #A0A0A0; color: #ffffff; padding:4px; border:#f0e0e0 1px solid;\n            font-weight: normal; font-family: monospace; font-size: 100%;\n        }\n        .Table td{\n            padding:4px; border:#f0e0e0 1px solid; font-size:100%;\n        }\n        .Table tr:nth-child(odd){\n            background: #ffffff;\n        }\n        .Table tr:nth-child(even){\n            background: #f3f1ff;\n        }\n        /* Tooltip container */\n        .djtooltip {\n        }\n        /* Tooltip text */\n        .djtooltip .djtooltiptext {\n            visibility: hidden;\n            width: 120px;\n            background-color: black;\n            color: #fff;\n            text-align: center;\n            padding: 5px 0;\n            border-radius: 6px;\n            /* Position the tooltip text - see examples below! */\n            position: absolute;\n            z-index: 1;\n        }\n        #primary {\n            font-weight: bold;\n            color: black;\n        }\n        #nonprimary {\n            font-weight: normal;\n            color: white;\n        }\n\n        /* Show the tooltip text when you mouse over the tooltip container */\n        .djtooltip:hover .djtooltiptext {\n            visibility: visible;\n        }\n    </style>\n    \n    <b></b>\n        <div style=\"max-height:1000px;max-width:1500px;overflow:auto;\">\n        <table border=\"1\" class=\"Table\">\n            <thead> <tr style=\"text-align: right;\"> <th> <div class=\"djtooltip\">\n                            <p id=\"primary\">fileset_id</p>\n                            <span class=\"djtooltiptext\">identifier for a fileset - computed from the aggregated checksum of all files in the fileset</span>\n                        </div></th><th><div class=\"djtooltip\">\n                            <p id=\"nonprimary\">fileset_root</p>\n                            <span class=\"djtooltiptext\">the commonpath of all files in the fileset</span>\n                        </div></th><th><div class=\"djtooltip\">\n                            <p id=\"nonprimary\">fileset_size</p>\n                            <span class=\"djtooltiptext\">size of the entire fileset in bytes</span>\n                        </div></th><th><div class=\"djtooltip\">\n                            <p id=\"nonprimary\">file_count</p>\n                            <span class=\"djtooltiptext\"></span>\n                        </div></th><th><div class=\"djtooltip\">\n                            <p id=\"nonprimary\">fileset_creation_time</p>\n                            <span class=\"djtooltiptext\">creation time (UTC) of the fileset</span>\n                        </div> </th> </tr> </thead>\n            <tbody> <tr> <td>b2af2df8-2481-bde3-4630-585b23767a18</td>\n<td>outbox/report_figures</td>\n<td>531044</td>\n<td>9</td>\n<td>2023-02-20 17:04:18</td></tr><tr><td>c0d1d460-bc3c-c172-e31b-7a0e0bd547f5</td>\n<td>outbox</td>\n<td>1851506</td>\n<td>10</td>\n<td>2023-02-20 17:05:09</td> </tr> </tbody>\n        </table>\n        \n        <p>Total: 2</p></div>\n        "
     },
     "execution_count": 31,
     "metadata": {},
     "output_type": "execute_result"
    }
   ],
   "source": [
    "schema.fileset['file-store']"
   ],
   "metadata": {
    "collapsed": false,
    "pycharm": {
     "name": "#%%\n"
    }
   }
  },
  {
   "cell_type": "code",
   "execution_count": 32,
   "outputs": [
    {
     "data": {
      "text/plain": "*fileset_id    *hash          filepath       file      \n+------------+ +------------+ +------------+ +--------+\nb2af2df8-2481- 159bdbe3-39a8- outbox/report_ =BLOB=    \nb2af2df8-2481- 64f268ce-e8ba- outbox/report_ =BLOB=    \nb2af2df8-2481- 97675579-9d34- outbox/report_ =BLOB=    \nb2af2df8-2481- 9b8c4e8c-ed48- outbox/report_ =BLOB=    \nb2af2df8-2481- aa8c5918-105d- outbox/report_ =BLOB=    \nb2af2df8-2481- c87263f2-632b- outbox/report_ =BLOB=    \nb2af2df8-2481- ce5eb1c8-4b8f- outbox/report_ =BLOB=    \n   ...\n (Total: 19)",
      "text/html": "\n    \n    <style type=\"text/css\">\n        .Table{\n            border-collapse:collapse;\n        }\n        .Table th{\n            background: #A0A0A0; color: #ffffff; padding:4px; border:#f0e0e0 1px solid;\n            font-weight: normal; font-family: monospace; font-size: 100%;\n        }\n        .Table td{\n            padding:4px; border:#f0e0e0 1px solid; font-size:100%;\n        }\n        .Table tr:nth-child(odd){\n            background: #ffffff;\n        }\n        .Table tr:nth-child(even){\n            background: #f3f1ff;\n        }\n        /* Tooltip container */\n        .djtooltip {\n        }\n        /* Tooltip text */\n        .djtooltip .djtooltiptext {\n            visibility: hidden;\n            width: 120px;\n            background-color: black;\n            color: #fff;\n            text-align: center;\n            padding: 5px 0;\n            border-radius: 6px;\n            /* Position the tooltip text - see examples below! */\n            position: absolute;\n            z-index: 1;\n        }\n        #primary {\n            font-weight: bold;\n            color: black;\n        }\n        #nonprimary {\n            font-weight: normal;\n            color: white;\n        }\n\n        /* Show the tooltip text when you mouse over the tooltip container */\n        .djtooltip:hover .djtooltiptext {\n            visibility: visible;\n        }\n    </style>\n    \n    <b></b>\n        <div style=\"max-height:1000px;max-width:1500px;overflow:auto;\">\n        <table border=\"1\" class=\"Table\">\n            <thead> <tr style=\"text-align: right;\"> <th> <div class=\"djtooltip\">\n                            <p id=\"primary\">fileset_id</p>\n                            <span class=\"djtooltiptext\">identifier for a fileset - computed from the aggregated checksum of all files in the fileset</span>\n                        </div></th><th><div class=\"djtooltip\">\n                            <p id=\"primary\">hash</p>\n                            <span class=\"djtooltiptext\">hash of filename + contents (attach)</span>\n                        </div></th><th><div class=\"djtooltip\">\n                            <p id=\"nonprimary\">filepath</p>\n                            <span class=\"djtooltiptext\">filepath relative to the \"location\" of the store</span>\n                        </div></th><th><div class=\"djtooltip\">\n                            <p id=\"nonprimary\">file</p>\n                            <span class=\"djtooltiptext\"></span>\n                        </div> </th> </tr> </thead>\n            <tbody> <tr> <td>b2af2df8-2481-bde3-4630-585b23767a18</td>\n<td>159bdbe3-39a8-bd67-ead7-36176ba7f5bf</td>\n<td>outbox/report_figures/m37c100r6_psychometric_curve.png</td>\n<td>=BLOB=</td></tr><tr><td>b2af2df8-2481-bde3-4630-585b23767a18</td>\n<td>64f268ce-e8ba-4e92-bc07-4d32c12d1c24</td>\n<td>outbox/report_figures/m37c2000r498_psychometric_curve.png</td>\n<td>=BLOB=</td></tr><tr><td>b2af2df8-2481-bde3-4630-585b23767a18</td>\n<td>97675579-9d34-d714-d212-5aaa05b2c01f</td>\n<td>outbox/report_figures/m37c2000r503_psychometric_curve.png</td>\n<td>=BLOB=</td></tr><tr><td>b2af2df8-2481-bde3-4630-585b23767a18</td>\n<td>9b8c4e8c-ed48-04b1-db32-15785cf1b298</td>\n<td>outbox/report_figures/m37c2000r408_psychometric_curve.png</td>\n<td>=BLOB=</td></tr><tr><td>b2af2df8-2481-bde3-4630-585b23767a18</td>\n<td>aa8c5918-105d-251a-f492-68c3b3bfa770</td>\n<td>outbox/report_figures/m37c2000r397_psychometric_curve.png</td>\n<td>=BLOB=</td></tr><tr><td>b2af2df8-2481-bde3-4630-585b23767a18</td>\n<td>c87263f2-632b-332b-5ca4-40aa7c38161c</td>\n<td>outbox/report_figures/m37c2000r535_psychometric_curve.png</td>\n<td>=BLOB=</td></tr><tr><td>b2af2df8-2481-bde3-4630-585b23767a18</td>\n<td>ce5eb1c8-4b8f-a808-106f-7442ba70383f</td>\n<td>outbox/report_figures/m37c2000r479_psychometric_curve.png</td>\n<td>=BLOB=</td> </tr> </tbody>\n        </table>\n        <p>...</p>\n        <p>Total: 19</p></div>\n        "
     },
     "execution_count": 32,
     "metadata": {},
     "output_type": "execute_result"
    }
   ],
   "source": [
    "schema.fileset['file-store'].File"
   ],
   "metadata": {
    "collapsed": false,
    "pycharm": {
     "name": "#%%\n"
    }
   }
  },
  {
   "cell_type": "code",
   "execution_count": 33,
   "outputs": [
    {
     "data": {
      "text/plain": "*hash          size        attachment_nam filepath     contents_hash  timestamp     \n+------------+ +---------+ +------------+ +----------+ +------------+ +------------+\n159bdbe3-39a8- 74830       m37c100r6_psyc None         None           2023-02-20 11:\n461628a8-0a29- 1320462     structure.oebi None         None           2023-02-20 11:\n64f268ce-e8ba- 69699       m37c2000r498_p None         None           2023-02-20 11:\n97675579-9d34- 63384       m37c2000r503_p None         None           2023-02-20 11:\n9b8c4e8c-ed48- 48093       m37c2000r408_p None         None           2023-02-20 11:\naa8c5918-105d- 76855       m37c2000r397_p None         None           2023-02-20 11:\nc87263f2-632b- 43068       m37c2000r535_p None         None           2023-02-20 11:\n   ...\n (Total: 10)",
      "text/html": "\n    \n    <style type=\"text/css\">\n        .Table{\n            border-collapse:collapse;\n        }\n        .Table th{\n            background: #A0A0A0; color: #ffffff; padding:4px; border:#f0e0e0 1px solid;\n            font-weight: normal; font-family: monospace; font-size: 100%;\n        }\n        .Table td{\n            padding:4px; border:#f0e0e0 1px solid; font-size:100%;\n        }\n        .Table tr:nth-child(odd){\n            background: #ffffff;\n        }\n        .Table tr:nth-child(even){\n            background: #f3f1ff;\n        }\n        /* Tooltip container */\n        .djtooltip {\n        }\n        /* Tooltip text */\n        .djtooltip .djtooltiptext {\n            visibility: hidden;\n            width: 120px;\n            background-color: black;\n            color: #fff;\n            text-align: center;\n            padding: 5px 0;\n            border-radius: 6px;\n            /* Position the tooltip text - see examples below! */\n            position: absolute;\n            z-index: 1;\n        }\n        #primary {\n            font-weight: bold;\n            color: black;\n        }\n        #nonprimary {\n            font-weight: normal;\n            color: white;\n        }\n\n        /* Show the tooltip text when you mouse over the tooltip container */\n        .djtooltip:hover .djtooltiptext {\n            visibility: visible;\n        }\n    </style>\n    \n    <b>external storage tracking</b>\n        <div style=\"max-height:1000px;max-width:1500px;overflow:auto;\">\n        <table border=\"1\" class=\"Table\">\n            <thead> <tr style=\"text-align: right;\"> <th> <div class=\"djtooltip\">\n                            <p id=\"primary\">hash</p>\n                            <span class=\"djtooltiptext\">hash of contents (blob), of filename + contents (attach), or relative filepath (filepath)</span>\n                        </div></th><th><div class=\"djtooltip\">\n                            <p id=\"nonprimary\">size</p>\n                            <span class=\"djtooltiptext\">size of object in bytes</span>\n                        </div></th><th><div class=\"djtooltip\">\n                            <p id=\"nonprimary\">attachment_name</p>\n                            <span class=\"djtooltiptext\">the filename of an attachment</span>\n                        </div></th><th><div class=\"djtooltip\">\n                            <p id=\"nonprimary\">filepath</p>\n                            <span class=\"djtooltiptext\">relative filepath or attachment filename</span>\n                        </div></th><th><div class=\"djtooltip\">\n                            <p id=\"nonprimary\">contents_hash</p>\n                            <span class=\"djtooltiptext\">used for the filepath datatype</span>\n                        </div></th><th><div class=\"djtooltip\">\n                            <p id=\"nonprimary\">timestamp</p>\n                            <span class=\"djtooltiptext\">automatic timestamp</span>\n                        </div> </th> </tr> </thead>\n            <tbody> <tr> <td>159bdbe3-39a8-bd67-ead7-36176ba7f5bf</td>\n<td>74830</td>\n<td>m37c100r6_psychometric_curve.png</td>\n<td>None</td>\n<td>None</td>\n<td>2023-02-20 11:06:23</td></tr><tr><td>461628a8-0a29-3e98-a114-45cef0581998</td>\n<td>1320462</td>\n<td>structure.oebin</td>\n<td>None</td>\n<td>None</td>\n<td>2023-02-20 11:06:24</td></tr><tr><td>64f268ce-e8ba-4e92-bc07-4d32c12d1c24</td>\n<td>69699</td>\n<td>m37c2000r498_psychometric_curve.png</td>\n<td>None</td>\n<td>None</td>\n<td>2023-02-20 11:06:23</td></tr><tr><td>97675579-9d34-d714-d212-5aaa05b2c01f</td>\n<td>63384</td>\n<td>m37c2000r503_psychometric_curve.png</td>\n<td>None</td>\n<td>None</td>\n<td>2023-02-20 11:06:23</td></tr><tr><td>9b8c4e8c-ed48-04b1-db32-15785cf1b298</td>\n<td>48093</td>\n<td>m37c2000r408_psychometric_curve.png</td>\n<td>None</td>\n<td>None</td>\n<td>2023-02-20 11:06:23</td></tr><tr><td>aa8c5918-105d-251a-f492-68c3b3bfa770</td>\n<td>76855</td>\n<td>m37c2000r397_psychometric_curve.png</td>\n<td>None</td>\n<td>None</td>\n<td>2023-02-20 11:06:23</td></tr><tr><td>c87263f2-632b-332b-5ca4-40aa7c38161c</td>\n<td>43068</td>\n<td>m37c2000r535_psychometric_curve.png</td>\n<td>None</td>\n<td>None</td>\n<td>2023-02-20 11:06:24</td> </tr> </tbody>\n        </table>\n        <p>...</p>\n        <p>Total: 10</p></div>\n        "
     },
     "execution_count": 33,
     "metadata": {},
     "output_type": "execute_result"
    }
   ],
   "source": [
    "schema.external['file-store']"
   ],
   "metadata": {
    "collapsed": false,
    "pycharm": {
     "name": "#%%\n"
    }
   }
  },
  {
   "cell_type": "markdown",
   "source": [
    "#### No duplication of files on external store (thanks to the feature of \"attach\" type)"
   ],
   "metadata": {
    "collapsed": false,
    "pycharm": {
     "name": "#%% md\n"
    }
   }
  },
  {
   "cell_type": "code",
   "execution_count": 34,
   "outputs": [
    {
     "data": {
      "text/plain": "[WindowsPath('C:/Users/thinh/Documents/Temporary/outbox/report_figures/m37c100r6_psychometric_curve.png'),\n WindowsPath('C:/Users/thinh/Documents/Temporary/outbox/report_figures/m37c2000r397_psychometric_curve.png'),\n WindowsPath('C:/Users/thinh/Documents/Temporary/outbox/report_figures/m37c2000r408_psychometric_curve.png'),\n WindowsPath('C:/Users/thinh/Documents/Temporary/outbox/report_figures/m37c2000r479_psychometric_curve.png'),\n WindowsPath('C:/Users/thinh/Documents/Temporary/outbox/report_figures/m37c2000r498_psychometric_curve.png'),\n WindowsPath('C:/Users/thinh/Documents/Temporary/outbox/report_figures/m37c2000r503_psychometric_curve.png'),\n WindowsPath('C:/Users/thinh/Documents/Temporary/outbox/report_figures/m37c2000r506_psychometric_curve.png'),\n WindowsPath('C:/Users/thinh/Documents/Temporary/outbox/report_figures/m37c2000r535_psychometric_curve.png'),\n WindowsPath('C:/Users/thinh/Documents/Temporary/outbox/report_figures/m37c2000r538_psychometric_curve.png'),\n WindowsPath('C:/Users/thinh/Documents/Temporary/outbox/structure.oebin')]"
     },
     "execution_count": 34,
     "metadata": {},
     "output_type": "execute_result"
    }
   ],
   "source": [
    "(Session & \"session_id = 2\").fetch1('session_fileset')"
   ],
   "metadata": {
    "collapsed": false,
    "pycharm": {
     "name": "#%%\n"
    }
   }
  }
 ],
 "metadata": {
  "kernelspec": {
   "name": "conda-env-datajoint-python-py",
   "language": "python",
   "display_name": "Python [conda env:datajoint-python] *"
  },
  "language_info": {
   "codemirror_mode": {
    "name": "ipython",
    "version": 2
   },
   "file_extension": ".py",
   "mimetype": "text/x-python",
   "name": "python",
   "nbconvert_exporter": "python",
   "pygments_lexer": "ipython2",
   "version": "2.7.6"
  }
 },
 "nbformat": 4,
 "nbformat_minor": 0
}